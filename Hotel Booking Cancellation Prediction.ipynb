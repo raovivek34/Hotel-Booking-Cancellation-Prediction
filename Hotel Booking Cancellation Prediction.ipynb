{
 "cells": [
  {
   "cell_type": "markdown",
   "metadata": {
    "colab_type": "text",
    "id": "woYNp5bc6KEY"
   },
   "source": [
    "# Understanding Data and Data Preprocessing\n",
    "\n"
   ]
  },
  {
   "cell_type": "code",
   "execution_count": 1,
   "metadata": {
    "colab": {
     "base_uri": "https://localhost:8080/",
     "height": 413
    },
    "colab_type": "code",
    "id": "9aLVY8hv4PMn",
    "outputId": "4c0461ba-87a2-455f-9542-8207f33f2569"
   },
   "outputs": [
    {
     "data": {
      "text/html": [
       "<div>\n",
       "<style scoped>\n",
       "    .dataframe tbody tr th:only-of-type {\n",
       "        vertical-align: middle;\n",
       "    }\n",
       "\n",
       "    .dataframe tbody tr th {\n",
       "        vertical-align: top;\n",
       "    }\n",
       "\n",
       "    .dataframe thead th {\n",
       "        text-align: right;\n",
       "    }\n",
       "</style>\n",
       "<table border=\"1\" class=\"dataframe\">\n",
       "  <thead>\n",
       "    <tr style=\"text-align: right;\">\n",
       "      <th></th>\n",
       "      <th>LeadTime</th>\n",
       "      <th>ArrivalDateMonth</th>\n",
       "      <th>StaysInNights</th>\n",
       "      <th>Adults</th>\n",
       "      <th>Children</th>\n",
       "      <th>Babies</th>\n",
       "      <th>Meal</th>\n",
       "      <th>CountryPRT</th>\n",
       "      <th>MarketSegment</th>\n",
       "      <th>PreviousCancellations</th>\n",
       "      <th>...</th>\n",
       "      <th>AssignedRoomType</th>\n",
       "      <th>BookingChanges</th>\n",
       "      <th>Deposit</th>\n",
       "      <th>Agent</th>\n",
       "      <th>DaysInWaitingList</th>\n",
       "      <th>CustomerType</th>\n",
       "      <th>ADR</th>\n",
       "      <th>RequiredCarParkingSpaces</th>\n",
       "      <th>TotalOfSpecialRequests</th>\n",
       "      <th>IsCanceled</th>\n",
       "    </tr>\n",
       "  </thead>\n",
       "  <tbody>\n",
       "    <tr>\n",
       "      <th>0</th>\n",
       "      <td>192.0</td>\n",
       "      <td>December</td>\n",
       "      <td>4.0</td>\n",
       "      <td>2.0</td>\n",
       "      <td>0.0</td>\n",
       "      <td>0.0</td>\n",
       "      <td>SC</td>\n",
       "      <td>0.0</td>\n",
       "      <td>Online TA</td>\n",
       "      <td>0.0</td>\n",
       "      <td>...</td>\n",
       "      <td>A</td>\n",
       "      <td>2.0</td>\n",
       "      <td>0.0</td>\n",
       "      <td>9</td>\n",
       "      <td>0.0</td>\n",
       "      <td>Transient</td>\n",
       "      <td>72.75</td>\n",
       "      <td>0.0</td>\n",
       "      <td>2.0</td>\n",
       "      <td>0</td>\n",
       "    </tr>\n",
       "    <tr>\n",
       "      <th>1</th>\n",
       "      <td>23.0</td>\n",
       "      <td>October</td>\n",
       "      <td>1.0</td>\n",
       "      <td>3.0</td>\n",
       "      <td>0.0</td>\n",
       "      <td>NaN</td>\n",
       "      <td>BB</td>\n",
       "      <td>0.0</td>\n",
       "      <td>Offline TA/TO</td>\n",
       "      <td>0.0</td>\n",
       "      <td>...</td>\n",
       "      <td>A</td>\n",
       "      <td>1.0</td>\n",
       "      <td>0.0</td>\n",
       "      <td>118</td>\n",
       "      <td>0.0</td>\n",
       "      <td>Transient</td>\n",
       "      <td>119.40</td>\n",
       "      <td>0.0</td>\n",
       "      <td>1.0</td>\n",
       "      <td>0</td>\n",
       "    </tr>\n",
       "    <tr>\n",
       "      <th>2</th>\n",
       "      <td>17.0</td>\n",
       "      <td>February</td>\n",
       "      <td>2.0</td>\n",
       "      <td>3.0</td>\n",
       "      <td>0.0</td>\n",
       "      <td>0.0</td>\n",
       "      <td>BB</td>\n",
       "      <td>0.0</td>\n",
       "      <td>Online TA</td>\n",
       "      <td>0.0</td>\n",
       "      <td>...</td>\n",
       "      <td>A</td>\n",
       "      <td>0.0</td>\n",
       "      <td>0.0</td>\n",
       "      <td>9</td>\n",
       "      <td>0.0</td>\n",
       "      <td>Transient</td>\n",
       "      <td>136.00</td>\n",
       "      <td>0.0</td>\n",
       "      <td>NaN</td>\n",
       "      <td>1</td>\n",
       "    </tr>\n",
       "    <tr>\n",
       "      <th>3</th>\n",
       "      <td>19.0</td>\n",
       "      <td>August</td>\n",
       "      <td>2.0</td>\n",
       "      <td>1.0</td>\n",
       "      <td>0.0</td>\n",
       "      <td>0.0</td>\n",
       "      <td>SC</td>\n",
       "      <td>0.0</td>\n",
       "      <td>Online TA</td>\n",
       "      <td>0.0</td>\n",
       "      <td>...</td>\n",
       "      <td>A</td>\n",
       "      <td>0.0</td>\n",
       "      <td>0.0</td>\n",
       "      <td>9</td>\n",
       "      <td>0.0</td>\n",
       "      <td>Transient</td>\n",
       "      <td>160.00</td>\n",
       "      <td>0.0</td>\n",
       "      <td>NaN</td>\n",
       "      <td>0</td>\n",
       "    </tr>\n",
       "    <tr>\n",
       "      <th>4</th>\n",
       "      <td>4.0</td>\n",
       "      <td>February</td>\n",
       "      <td>2.0</td>\n",
       "      <td>2.0</td>\n",
       "      <td>0.0</td>\n",
       "      <td>0.0</td>\n",
       "      <td>BB</td>\n",
       "      <td>0.0</td>\n",
       "      <td>Direct</td>\n",
       "      <td>0.0</td>\n",
       "      <td>...</td>\n",
       "      <td>E</td>\n",
       "      <td>0.0</td>\n",
       "      <td>0.0</td>\n",
       "      <td>No Agent</td>\n",
       "      <td>0.0</td>\n",
       "      <td>Transient</td>\n",
       "      <td>127.00</td>\n",
       "      <td>0.0</td>\n",
       "      <td>0.0</td>\n",
       "      <td>0</td>\n",
       "    </tr>\n",
       "    <tr>\n",
       "      <th>5</th>\n",
       "      <td>192.0</td>\n",
       "      <td>September</td>\n",
       "      <td>4.0</td>\n",
       "      <td>2.0</td>\n",
       "      <td>0.0</td>\n",
       "      <td>0.0</td>\n",
       "      <td>BB</td>\n",
       "      <td>0.0</td>\n",
       "      <td>Online TA</td>\n",
       "      <td>0.0</td>\n",
       "      <td>...</td>\n",
       "      <td>A</td>\n",
       "      <td>0.0</td>\n",
       "      <td>0.0</td>\n",
       "      <td>9</td>\n",
       "      <td>0.0</td>\n",
       "      <td>Transient</td>\n",
       "      <td>107.10</td>\n",
       "      <td>0.0</td>\n",
       "      <td>2.0</td>\n",
       "      <td>0</td>\n",
       "    </tr>\n",
       "    <tr>\n",
       "      <th>6</th>\n",
       "      <td>NaN</td>\n",
       "      <td>September</td>\n",
       "      <td>3.0</td>\n",
       "      <td>2.0</td>\n",
       "      <td>0.0</td>\n",
       "      <td>0.0</td>\n",
       "      <td>BB</td>\n",
       "      <td>1.0</td>\n",
       "      <td>Groups</td>\n",
       "      <td>0.0</td>\n",
       "      <td>...</td>\n",
       "      <td>A</td>\n",
       "      <td>0.0</td>\n",
       "      <td>NaN</td>\n",
       "      <td>37</td>\n",
       "      <td>0.0</td>\n",
       "      <td>Transient</td>\n",
       "      <td>120.00</td>\n",
       "      <td>0.0</td>\n",
       "      <td>0.0</td>\n",
       "      <td>1</td>\n",
       "    </tr>\n",
       "    <tr>\n",
       "      <th>7</th>\n",
       "      <td>213.0</td>\n",
       "      <td>August</td>\n",
       "      <td>4.0</td>\n",
       "      <td>NaN</td>\n",
       "      <td>0.0</td>\n",
       "      <td>0.0</td>\n",
       "      <td>SC</td>\n",
       "      <td>0.0</td>\n",
       "      <td>Online TA</td>\n",
       "      <td>0.0</td>\n",
       "      <td>...</td>\n",
       "      <td>A</td>\n",
       "      <td>0.0</td>\n",
       "      <td>0.0</td>\n",
       "      <td>9</td>\n",
       "      <td>0.0</td>\n",
       "      <td>Transient</td>\n",
       "      <td>80.75</td>\n",
       "      <td>0.0</td>\n",
       "      <td>0.0</td>\n",
       "      <td>1</td>\n",
       "    </tr>\n",
       "    <tr>\n",
       "      <th>8</th>\n",
       "      <td>175.0</td>\n",
       "      <td>May</td>\n",
       "      <td>3.0</td>\n",
       "      <td>2.0</td>\n",
       "      <td>0.0</td>\n",
       "      <td>0.0</td>\n",
       "      <td>BB</td>\n",
       "      <td>1.0</td>\n",
       "      <td>Groups</td>\n",
       "      <td>0.0</td>\n",
       "      <td>...</td>\n",
       "      <td>A</td>\n",
       "      <td>0.0</td>\n",
       "      <td>1.0</td>\n",
       "      <td>12</td>\n",
       "      <td>0.0</td>\n",
       "      <td>Transient</td>\n",
       "      <td>110.00</td>\n",
       "      <td>0.0</td>\n",
       "      <td>0.0</td>\n",
       "      <td>1</td>\n",
       "    </tr>\n",
       "    <tr>\n",
       "      <th>9</th>\n",
       "      <td>145.0</td>\n",
       "      <td>August</td>\n",
       "      <td>3.0</td>\n",
       "      <td>NaN</td>\n",
       "      <td>0.0</td>\n",
       "      <td>0.0</td>\n",
       "      <td>HB</td>\n",
       "      <td>0.0</td>\n",
       "      <td>Offline TA/TO</td>\n",
       "      <td>0.0</td>\n",
       "      <td>...</td>\n",
       "      <td>A</td>\n",
       "      <td>1.0</td>\n",
       "      <td>NaN</td>\n",
       "      <td>17</td>\n",
       "      <td>0.0</td>\n",
       "      <td>Transient-Party</td>\n",
       "      <td>72.50</td>\n",
       "      <td>0.0</td>\n",
       "      <td>0.0</td>\n",
       "      <td>0</td>\n",
       "    </tr>\n",
       "  </tbody>\n",
       "</table>\n",
       "<p>10 rows × 21 columns</p>\n",
       "</div>"
      ],
      "text/plain": [
       "   LeadTime ArrivalDateMonth  StaysInNights  Adults  Children  Babies  \\\n",
       "0     192.0         December            4.0     2.0       0.0     0.0   \n",
       "1      23.0          October            1.0     3.0       0.0     NaN   \n",
       "2      17.0         February            2.0     3.0       0.0     0.0   \n",
       "3      19.0           August            2.0     1.0       0.0     0.0   \n",
       "4       4.0         February            2.0     2.0       0.0     0.0   \n",
       "5     192.0        September            4.0     2.0       0.0     0.0   \n",
       "6       NaN        September            3.0     2.0       0.0     0.0   \n",
       "7     213.0           August            4.0     NaN       0.0     0.0   \n",
       "8     175.0              May            3.0     2.0       0.0     0.0   \n",
       "9     145.0           August            3.0     NaN       0.0     0.0   \n",
       "\n",
       "        Meal  CountryPRT  MarketSegment  PreviousCancellations  ...  \\\n",
       "0  SC                0.0      Online TA                    0.0  ...   \n",
       "1  BB                0.0  Offline TA/TO                    0.0  ...   \n",
       "2  BB                0.0      Online TA                    0.0  ...   \n",
       "3  SC                0.0      Online TA                    0.0  ...   \n",
       "4  BB                0.0         Direct                    0.0  ...   \n",
       "5  BB                0.0      Online TA                    0.0  ...   \n",
       "6  BB                1.0         Groups                    0.0  ...   \n",
       "7  SC                0.0      Online TA                    0.0  ...   \n",
       "8  BB                1.0         Groups                    0.0  ...   \n",
       "9  HB                0.0  Offline TA/TO                    0.0  ...   \n",
       "\n",
       "   AssignedRoomType BookingChanges  Deposit     Agent DaysInWaitingList  \\\n",
       "0  A                           2.0      0.0         9               0.0   \n",
       "1  A                           1.0      0.0       118               0.0   \n",
       "2  A                           0.0      0.0         9               0.0   \n",
       "3  A                           0.0      0.0         9               0.0   \n",
       "4  E                           0.0      0.0  No Agent               0.0   \n",
       "5  A                           0.0      0.0         9               0.0   \n",
       "6  A                           0.0      NaN        37               0.0   \n",
       "7  A                           0.0      0.0         9               0.0   \n",
       "8  A                           0.0      1.0        12               0.0   \n",
       "9  A                           1.0      NaN        17               0.0   \n",
       "\n",
       "      CustomerType     ADR  RequiredCarParkingSpaces  TotalOfSpecialRequests  \\\n",
       "0        Transient   72.75                       0.0                     2.0   \n",
       "1        Transient  119.40                       0.0                     1.0   \n",
       "2        Transient  136.00                       0.0                     NaN   \n",
       "3        Transient  160.00                       0.0                     NaN   \n",
       "4        Transient  127.00                       0.0                     0.0   \n",
       "5        Transient  107.10                       0.0                     2.0   \n",
       "6        Transient  120.00                       0.0                     0.0   \n",
       "7        Transient   80.75                       0.0                     0.0   \n",
       "8        Transient  110.00                       0.0                     0.0   \n",
       "9  Transient-Party   72.50                       0.0                     0.0   \n",
       "\n",
       "   IsCanceled  \n",
       "0           0  \n",
       "1           0  \n",
       "2           1  \n",
       "3           0  \n",
       "4           0  \n",
       "5           0  \n",
       "6           1  \n",
       "7           1  \n",
       "8           1  \n",
       "9           0  \n",
       "\n",
       "[10 rows x 21 columns]"
      ]
     },
     "execution_count": 1,
     "metadata": {},
     "output_type": "execute_result"
    }
   ],
   "source": [
    "import pandas as pd #Importing python libraries for data analysis\n",
    "import numpy as np\n",
    "import matplotlib.pyplot as plt\n",
    "import seaborn as sns\n",
    "import scipy.stats as stats \n",
    "import researchpy as rp\n",
    "\n",
    "\n",
    "import warnings\n",
    "warnings.filterwarnings(\"ignore\")\n",
    "\n",
    "hotel_lisbon = pd.read_csv('HotelLisbon-Sampled.csv') #Reading csv file and making dataframe 'hotel_lisbon'\n",
    "\n",
    "hotel_lisbon = hotel_lisbon.drop(['ArrivalDateYear','ArrivalDateMonthCode','ArrivalDateWeekNumber','ArrivalDateDayOfMonth','ArrivalDayCode','IsRepeatedGuest','Country','StaysInWeekendNights','StaysInWeekNights','ReservationStatus','ReservationStatusDate','ArrivalDay','ReservedRoomType','DistributionChannel','Company'],axis=1) #Dropping columns not required for analysis\n",
    "\n",
    "hotel_lisbon.head(10) #Initial records of dataframe"
   ]
  },
  {
   "cell_type": "code",
   "execution_count": 2,
   "metadata": {
    "colab": {
     "base_uri": "https://localhost:8080/",
     "height": 901
    },
    "colab_type": "code",
    "id": "eEbfji8c4gbD",
    "outputId": "0aa214bb-9d3f-46c3-fa1f-be4b9ef022bf"
   },
   "outputs": [
    {
     "name": "stdout",
     "output_type": "stream",
     "text": [
      "(2993, 21)\n",
      "<class 'pandas.core.frame.DataFrame'>\n",
      "RangeIndex: 2993 entries, 0 to 2992\n",
      "Data columns (total 21 columns):\n",
      "LeadTime                       2850 non-null float64\n",
      "ArrivalDateMonth               2846 non-null object\n",
      "StaysInNights                  2849 non-null float64\n",
      "Adults                         2831 non-null float64\n",
      "Children                       2857 non-null float64\n",
      "Babies                         2867 non-null float64\n",
      "Meal                           2835 non-null object\n",
      "CountryPRT                     2832 non-null float64\n",
      "MarketSegment                  2851 non-null object\n",
      "PreviousCancellations          2851 non-null float64\n",
      "PreviousBookingsNotCanceled    2855 non-null float64\n",
      "AssignedRoomType               2842 non-null object\n",
      "BookingChanges                 2853 non-null float64\n",
      "Deposit                        2871 non-null float64\n",
      "Agent                          2836 non-null object\n",
      "DaysInWaitingList              2857 non-null float64\n",
      "CustomerType                   2853 non-null object\n",
      "ADR                            2826 non-null float64\n",
      "RequiredCarParkingSpaces       2852 non-null float64\n",
      "TotalOfSpecialRequests         2851 non-null float64\n",
      "IsCanceled                     2993 non-null int64\n",
      "dtypes: float64(14), int64(1), object(6)\n",
      "memory usage: 491.1+ KB\n",
      "None\n",
      "                    Column Name  Number of Unique Values\n",
      "0                      LeadTime                      382\n",
      "1              ArrivalDateMonth                       12\n",
      "2                 StaysInNights                       14\n",
      "3                        Adults                        3\n",
      "4                      Children                        4\n",
      "5                        Babies                        2\n",
      "6                          Meal                        3\n",
      "7                    CountryPRT                        2\n",
      "8                 MarketSegment                        7\n",
      "9         PreviousCancellations                        9\n",
      "10  PreviousBookingsNotCanceled                       18\n",
      "11             AssignedRoomType                        8\n",
      "12               BookingChanges                        9\n",
      "13                      Deposit                        2\n",
      "14                        Agent                      115\n",
      "15            DaysInWaitingList                       58\n",
      "16                 CustomerType                        4\n",
      "17                          ADR                      770\n",
      "18     RequiredCarParkingSpaces                        3\n",
      "19       TotalOfSpecialRequests                        5\n",
      "20                   IsCanceled                        2\n"
     ]
    }
   ],
   "source": [
    "print(hotel_lisbon.shape) #No. of rows and columns of dataframe\n",
    "\n",
    "print(hotel_lisbon.info()) #Data type of each column along with number of non null values\n",
    "\n",
    "def unique(): #Defined unique() to give number of unique values of each column in dataframe\n",
    "    columns=[] #List to store the names of all the columns in dataframe\n",
    "    uniques=[] #List to store the number of unique values of all the columns in dataframe\n",
    "    \n",
    "    for col in hotel_lisbon.columns: \n",
    "        columns.append(col)\n",
    "        uniques.append(hotel_lisbon[col].nunique())\n",
    "    unique_data={'Column Name':columns,'Number of Unique Values':uniques}\n",
    "    unique_df = pd.DataFrame(unique_data)\n",
    "    return unique_df #Dataframe that gives you the name of the column along with the number of unique values\n",
    "\n",
    "print(unique()) #Calling unique()"
   ]
  },
  {
   "cell_type": "code",
   "execution_count": 3,
   "metadata": {
    "colab": {
     "base_uri": "https://localhost:8080/",
     "height": 204
    },
    "colab_type": "code",
    "id": "CLB976JN5wtQ",
    "outputId": "8ff27980-a416-4e79-e7c4-c0e718a0eee6"
   },
   "outputs": [
    {
     "name": "stdout",
     "output_type": "stream",
     "text": [
      "          LeadTime  StaysInNights       Adults     Children       Babies  \\\n",
      "count  2850.000000    2849.000000  2831.000000  2857.000000  2867.000000   \n",
      "mean    109.700702       2.911197     1.867891     0.087854     0.004186   \n",
      "std     109.661238       1.624787     0.494704     0.363297     0.064572   \n",
      "min       0.000000       1.000000     1.000000     0.000000     0.000000   \n",
      "25%      23.000000       2.000000     2.000000     0.000000     0.000000   \n",
      "50%      76.000000       3.000000     2.000000     0.000000     0.000000   \n",
      "75%     162.750000       4.000000     2.000000     0.000000     0.000000   \n",
      "max     629.000000      15.000000     3.000000     3.000000     1.000000   \n",
      "\n",
      "        CountryPRT  PreviousCancellations  PreviousBookingsNotCanceled  \\\n",
      "count  2832.000000            2851.000000                  2855.000000   \n",
      "mean      0.384181               0.086286                     0.147110   \n",
      "std       0.486487               0.593761                     2.072462   \n",
      "min       0.000000               0.000000                     0.000000   \n",
      "25%       0.000000               0.000000                     0.000000   \n",
      "50%       0.000000               0.000000                     0.000000   \n",
      "75%       1.000000               0.000000                     0.000000   \n",
      "max       1.000000              21.000000                    58.000000   \n",
      "\n",
      "       BookingChanges      Deposit  DaysInWaitingList          ADR  \\\n",
      "count     2853.000000  2871.000000        2857.000000  2826.000000   \n",
      "mean         0.195233     0.165099           2.818691   106.364416   \n",
      "std          0.664744     0.371335          18.255214    38.102945   \n",
      "min          0.000000     0.000000           0.000000     0.000000   \n",
      "25%          0.000000     0.000000           0.000000    80.000000   \n",
      "50%          0.000000     0.000000           0.000000   100.000000   \n",
      "75%          0.000000     0.000000           0.000000   126.105000   \n",
      "max         17.000000     1.000000         391.000000   326.500000   \n",
      "\n",
      "       RequiredCarParkingSpaces  TotalOfSpecialRequests   IsCanceled  \n",
      "count               2852.000000             2851.000000  2993.000000  \n",
      "mean                   0.028752                0.536303     0.414634  \n",
      "std                    0.169223                0.757418     0.492741  \n",
      "min                    0.000000                0.000000     0.000000  \n",
      "25%                    0.000000                0.000000     0.000000  \n",
      "50%                    0.000000                0.000000     0.000000  \n",
      "75%                    0.000000                1.000000     1.000000  \n",
      "max                    2.000000                4.000000     1.000000  \n"
     ]
    }
   ],
   "source": [
    "print(hotel_lisbon.describe()) #Summary statistics of numeric columns (int64,float64) before dealing with missing values"
   ]
  },
  {
   "cell_type": "code",
   "execution_count": 4,
   "metadata": {
    "colab": {
     "base_uri": "https://localhost:8080/",
     "height": 136
    },
    "colab_type": "code",
    "id": "X-2W9SL-5ztg",
    "outputId": "0fe9d2da-daa5-4e55-ac6e-69bfcfcf8b5b"
   },
   "outputs": [
    {
     "name": "stdout",
     "output_type": "stream",
     "text": [
      "       ArrivalDateMonth       Meal MarketSegment  AssignedRoomType Agent  \\\n",
      "count              2846       2835          2851              2842  2836   \n",
      "unique               12          3             7                 8   115   \n",
      "top                 May  BB            Online TA  A                    9   \n",
      "freq                344       2217          1406              2033  1156   \n",
      "\n",
      "       CustomerType  \n",
      "count          2853  \n",
      "unique            4  \n",
      "top       Transient  \n",
      "freq           2129  \n"
     ]
    }
   ],
   "source": [
    "print(hotel_lisbon.describe(include='O')) #Summary statistics of object columns (object) before dealing with missing values"
   ]
  },
  {
   "cell_type": "code",
   "execution_count": 5,
   "metadata": {
    "colab": {
     "base_uri": "https://localhost:8080/",
     "height": 102
    },
    "colab_type": "code",
    "id": "XHfcvwhF52CS",
    "outputId": "313f115c-1e88-471a-bc3b-c2ac28403082"
   },
   "outputs": [
    {
     "name": "stdout",
     "output_type": "stream",
     "text": [
      "     Variable  Outcome  Count  Percent\n",
      "0  IsCanceled        0   1752    58.54\n",
      "1                    1   1241    41.46\n",
      "\n",
      "IsCanceled column is our target column that we want to predict.The dataset is not balanced but is not very imbalanced as well.\n"
     ]
    }
   ],
   "source": [
    "print(rp.summary_cat(hotel_lisbon['IsCanceled'])) #Frequency and percentage distribution of 'IsCanceled' - target column using researchpy\n",
    "print('\\nIsCanceled column is our target column that we want to predict.The dataset is not balanced but is not very imbalanced as well.')"
   ]
  },
  {
   "cell_type": "markdown",
   "metadata": {
    "colab_type": "text",
    "id": "wQIn_zZy6g15"
   },
   "source": [
    "# Handling Missing Values\n"
   ]
  },
  {
   "cell_type": "code",
   "execution_count": 6,
   "metadata": {
    "colab": {
     "base_uri": "https://localhost:8080/",
     "height": 391
    },
    "colab_type": "code",
    "id": "7nRSEqvq6mcZ",
    "outputId": "b88caa38-b16d-46e1-92aa-0fe6446a1929"
   },
   "outputs": [
    {
     "name": "stdout",
     "output_type": "stream",
     "text": [
      "LeadTime                       143\n",
      "ArrivalDateMonth               147\n",
      "StaysInNights                  144\n",
      "Adults                         162\n",
      "Children                       136\n",
      "Babies                         126\n",
      "Meal                           158\n",
      "CountryPRT                     161\n",
      "MarketSegment                  142\n",
      "PreviousCancellations          142\n",
      "PreviousBookingsNotCanceled    138\n",
      "AssignedRoomType               151\n",
      "BookingChanges                 140\n",
      "Deposit                        122\n",
      "Agent                          157\n",
      "DaysInWaitingList              136\n",
      "CustomerType                   140\n",
      "ADR                            167\n",
      "RequiredCarParkingSpaces       141\n",
      "TotalOfSpecialRequests         142\n",
      "IsCanceled                       0\n",
      "dtype: int64\n"
     ]
    }
   ],
   "source": [
    "#Number of missing values of each column in dataframe\n",
    "print(hotel_lisbon.isnull().sum())"
   ]
  },
  {
   "cell_type": "code",
   "execution_count": 7,
   "metadata": {
    "colab": {
     "base_uri": "https://localhost:8080/",
     "height": 34
    },
    "colab_type": "code",
    "id": "b49pUCe86pGY",
    "outputId": "9bbb5a71-58bb-4a2e-c076-109c80740ba1"
   },
   "outputs": [
    {
     "name": "stdout",
     "output_type": "stream",
     "text": [
      "Done imputing missing values of Continuous Numeric columns.\n"
     ]
    }
   ],
   "source": [
    "#Imputing missing values of Continuous Numeric columns with either mean filling or median filling depending on the skewness\n",
    "for col in ['LeadTime','StaysInNights','PreviousCancellations','BookingChanges','TotalOfSpecialRequests','PreviousBookingsNotCanceled','ADR','DaysInWaitingList']:\n",
    "    if -0.7<=hotel_lisbon[col].skew()<=0.7:\n",
    "        hotel_lisbon[col]=hotel_lisbon[col].fillna(round(hotel_lisbon[col].mean()))\n",
    "    else:\n",
    "        hotel_lisbon[col]=hotel_lisbon[col].fillna(round(hotel_lisbon[col].median()))\n",
    "\n",
    "print('Done imputing missing values of Continuous Numeric columns.')"
   ]
  },
  {
   "cell_type": "code",
   "execution_count": 8,
   "metadata": {
    "colab": {
     "base_uri": "https://localhost:8080/",
     "height": 34
    },
    "colab_type": "code",
    "id": "9eoY9FZd6txe",
    "outputId": "01f2180f-7572-40e5-847e-3dd953d41f9c"
   },
   "outputs": [
    {
     "name": "stdout",
     "output_type": "stream",
     "text": [
      "Done imputing missing values of Categorical Numeric columns.\n"
     ]
    }
   ],
   "source": [
    "#Imputing missing values of Categorical columns with mode filling\n",
    "for col in ['Adults','Children','Babies','CountryPRT','Deposit','MarketSegment','CustomerType','ArrivalDateMonth','Meal','RequiredCarParkingSpaces','AssignedRoomType','Agent']:\n",
    "    hotel_lisbon[col]=hotel_lisbon[col].fillna(hotel_lisbon[col].mode()[0])\n",
    "    \n",
    "print('Done imputing missing values of Categorical Numeric columns.')"
   ]
  },
  {
   "cell_type": "code",
   "execution_count": 9,
   "metadata": {
    "colab": {
     "base_uri": "https://localhost:8080/",
     "height": 391
    },
    "colab_type": "code",
    "id": "XjQESBwh6vHa",
    "outputId": "7138af68-2b8c-408b-e843-11a67abe7fbe"
   },
   "outputs": [
    {
     "name": "stdout",
     "output_type": "stream",
     "text": [
      "LeadTime                       0\n",
      "ArrivalDateMonth               0\n",
      "StaysInNights                  0\n",
      "Adults                         0\n",
      "Children                       0\n",
      "Babies                         0\n",
      "Meal                           0\n",
      "CountryPRT                     0\n",
      "MarketSegment                  0\n",
      "PreviousCancellations          0\n",
      "PreviousBookingsNotCanceled    0\n",
      "AssignedRoomType               0\n",
      "BookingChanges                 0\n",
      "Deposit                        0\n",
      "Agent                          0\n",
      "DaysInWaitingList              0\n",
      "CustomerType                   0\n",
      "ADR                            0\n",
      "RequiredCarParkingSpaces       0\n",
      "TotalOfSpecialRequests         0\n",
      "IsCanceled                     0\n",
      "dtype: int64\n"
     ]
    }
   ],
   "source": [
    "print(hotel_lisbon.isnull().sum()) #Handled missing values of all those columns that might be needed for ML modeling"
   ]
  },
  {
   "cell_type": "code",
   "execution_count": 10,
   "metadata": {
    "colab": {
     "base_uri": "https://localhost:8080/",
     "height": 357
    },
    "colab_type": "code",
    "id": "OlTenSvL6xy-",
    "outputId": "27c334ca-4869-49f4-88e4-69db6da73ee8"
   },
   "outputs": [
    {
     "name": "stdout",
     "output_type": "stream",
     "text": [
      "          LeadTime  StaysInNights       Adults     Children       Babies  \\\n",
      "count  2993.000000    2993.000000  2993.000000  2993.000000  2993.000000   \n",
      "mean    108.090545       2.915469     1.875042     0.083862     0.004009   \n",
      "std     107.249815       1.585320     0.482053     0.355416     0.063203   \n",
      "min       0.000000       1.000000     1.000000     0.000000     0.000000   \n",
      "25%      26.000000       2.000000     2.000000     0.000000     0.000000   \n",
      "50%      76.000000       3.000000     2.000000     0.000000     0.000000   \n",
      "75%     158.000000       4.000000     2.000000     0.000000     0.000000   \n",
      "max     629.000000      15.000000     3.000000     3.000000     1.000000   \n",
      "\n",
      "        CountryPRT  PreviousCancellations  PreviousBookingsNotCanceled  \\\n",
      "count  2993.000000            2993.000000                  2993.000000   \n",
      "mean      0.363515               0.082192                     0.140327   \n",
      "std       0.481092               0.579790                     2.024339   \n",
      "min       0.000000               0.000000                     0.000000   \n",
      "25%       0.000000               0.000000                     0.000000   \n",
      "50%       0.000000               0.000000                     0.000000   \n",
      "75%       1.000000               0.000000                     0.000000   \n",
      "max       1.000000              21.000000                    58.000000   \n",
      "\n",
      "       BookingChanges      Deposit  DaysInWaitingList          ADR  \\\n",
      "count     2993.000000  2993.000000        2993.000000  2993.000000   \n",
      "mean         0.186101     0.158370           2.690611   106.009302   \n",
      "std          0.650314     0.365148          17.845159    37.053128   \n",
      "min          0.000000     0.000000           0.000000     0.000000   \n",
      "25%          0.000000     0.000000           0.000000    80.100000   \n",
      "50%          0.000000     0.000000           0.000000   100.000000   \n",
      "75%          0.000000     0.000000           0.000000   125.000000   \n",
      "max         17.000000     1.000000         391.000000   326.500000   \n",
      "\n",
      "       RequiredCarParkingSpaces  TotalOfSpecialRequests   IsCanceled  \n",
      "count               2993.000000             2993.000000  2993.000000  \n",
      "mean                   0.027397                0.510859     0.414634  \n",
      "std                    0.165300                0.747969     0.492741  \n",
      "min                    0.000000                0.000000     0.000000  \n",
      "25%                    0.000000                0.000000     0.000000  \n",
      "50%                    0.000000                0.000000     0.000000  \n",
      "75%                    0.000000                1.000000     1.000000  \n",
      "max                    2.000000                4.000000     1.000000  \n",
      "\n",
      "\n",
      "       ArrivalDateMonth       Meal MarketSegment  AssignedRoomType Agent  \\\n",
      "count              2993       2993          2993              2993  2993   \n",
      "unique               12          3             7                 8   115   \n",
      "top                 May  BB            Online TA  A                    9   \n",
      "freq                491       2375          1548              2184  1313   \n",
      "\n",
      "       CustomerType  \n",
      "count          2993  \n",
      "unique            4  \n",
      "top       Transient  \n",
      "freq           2269  \n"
     ]
    }
   ],
   "source": [
    "print(hotel_lisbon.describe()) #Summary statistics of numeric columns (int64,float64) after dealing with missing values\n",
    "print('\\n')\n",
    "print(hotel_lisbon.describe(include=['O'])) #Summary statistics of object columns (object) after dealing with missing values"
   ]
  },
  {
   "cell_type": "markdown",
   "metadata": {
    "colab_type": "text",
    "id": "yDsDuM-L7Tl8"
   },
   "source": [
    "# Exploratory Data Analysis, Feature Engineering and Statistical Testing"
   ]
  },
  {
   "cell_type": "code",
   "execution_count": 11,
   "metadata": {
    "colab": {
     "base_uri": "https://localhost:8080/",
     "height": 272
    },
    "colab_type": "code",
    "id": "tcr_lAtT7U3S",
    "outputId": "31ec3e16-110a-41de-ac9b-7228a34bcebc"
   },
   "outputs": [
    {
     "name": "stdout",
     "output_type": "stream",
     "text": [
      "0    2912\n",
      "1      81\n",
      "Name: RequiredCarParkingSpaces, dtype: int64\n",
      "\n",
      "\n",
      "0    2981\n",
      "1      12\n",
      "Name: Babies, dtype: int64\n",
      "\n",
      "\n",
      "0    2814\n",
      "1     179\n",
      "Name: Children, dtype: int64\n",
      "\n",
      "\n"
     ]
    }
   ],
   "source": [
    "#Feature Engineering RequiredCarParkingSpaces to make it binary - numeric column with '1' indicating 'requires car parking space' and '0' indicating 'doesn't require car parking space'\n",
    "#Feature Engineering Babies to make it binary - numeric column with '1' indicating 'baby present' and '0' indicating 'baby absent'\n",
    "#Feature Engineering Children to make it binary - numeric column with '1' indicating 'atleast one child' and '0' indicating 'no children'\n",
    "for col in ['RequiredCarParkingSpaces','Babies','Children']:\n",
    "    hotel_lisbon[col]=[0 if item==0 else 1 for item in hotel_lisbon[col]]\n",
    "    print(hotel_lisbon[col].value_counts())\n",
    "    print('\\n')"
   ]
  },
  {
   "cell_type": "code",
   "execution_count": 12,
   "metadata": {
    "colab": {
     "base_uri": "https://localhost:8080/",
     "height": 700
    },
    "colab_type": "code",
    "id": "Hjg1rXEg7Y9j",
    "outputId": "b294c1b9-5e0c-4411-8a69-3f4f5f4917e3"
   },
   "outputs": [
    {
     "data": {
      "text/plain": [
       "<matplotlib.axes._subplots.AxesSubplot at 0x2358e851908>"
      ]
     },
     "execution_count": 12,
     "metadata": {},
     "output_type": "execute_result"
    },
    {
     "data": {
      "image/png": "[encoded data removed]",
      "text/plain": [
       "<Figure size 1080x648 with 2 Axes>"
      ]
     },
     "metadata": {
      "needs_background": "light"
     },
     "output_type": "display_data"
    }
   ],
   "source": [
    "#Heatmap using seaborn indicating pairwise Pearson correlations of numeric variables\n",
    "plt.figure(figsize=(15,9))\n",
    "sns.heatmap(hotel_lisbon.corr(),cmap=\"Blues\",annot=True)"
   ]
  },
  {
   "cell_type": "code",
   "execution_count": 13,
   "metadata": {
    "colab": {
     "base_uri": "https://localhost:8080/",
     "height": 333
    },
    "colab_type": "code",
    "id": "Y9b0vzY97bw6",
    "outputId": "e0276172-8a7e-4058-ecb3-52235cd87a97"
   },
   "outputs": [
    {
     "name": "stdout",
     "output_type": "stream",
     "text": [
      "\n",
      "From the boxplot, we can see significant difference in LeadTime between Canceled hotel bookings and Not Canceled hotel bookings and also from the heatmap, we see a moderate correlation (0.31) between the two variables - LeadTime and IsCanceled. Therefore, we will include LeadTime in our predictive model.\n"
     ]
    },
    {
     "data": {
      "image/png": "[encoded data removed]",
      "text/plain": [
       "<Figure size 432x288 with 1 Axes>"
      ]
     },
     "metadata": {
      "needs_background": "light"
     },
     "output_type": "display_data"
    }
   ],
   "source": [
    "#Boxplot to show distribution of 'LeadTime' with respect to 'IsCanceled' category\n",
    "sns.boxplot(x=\"IsCanceled\",y=\"LeadTime\",data=hotel_lisbon,palette=\"Set1\") \n",
    "\n",
    "print('\\nFrom the boxplot, we can see significant difference in LeadTime between Canceled hotel bookings and Not Canceled hotel bookings and also from the heatmap, we see a moderate correlation (0.31) between the two variables - LeadTime and IsCanceled. Therefore, we will include LeadTime in our predictive model.')"
   ]
  },
  {
   "cell_type": "code",
   "execution_count": 14,
   "metadata": {
    "colab": {
     "base_uri": "https://localhost:8080/",
     "height": 388
    },
    "colab_type": "code",
    "id": "uyb9yngz8SRN",
    "outputId": "7630c6af-da84-42a4-bf88-9fa069a89100"
   },
   "outputs": [
    {
     "name": "stdout",
     "output_type": "stream",
     "text": [
      "\n",
      "This plot shows us that the outliers/extreme values are important as they show difference in behaviour in terms of cancellation of hotel bookings and also shows us that StaysInNights is not that correlated to IsCanceled which we can also make out from the heatmap.\n"
     ]
    },
    {
     "data": {
      "image/png": "[encoded data removed]",
      "text/plain": [
       "<Figure size 576x360 with 1 Axes>"
      ]
     },
     "metadata": {
      "needs_background": "light"
     },
     "output_type": "display_data"
    }
   ],
   "source": [
    "#Scatterplot of 'StaysInNights' and 'LeadTime' indicating behaviour of Canceled and Not Canceled Hotel Bookings\n",
    "plt.figure(figsize=(8,5))\n",
    "sns.scatterplot(x=\"LeadTime\",y=\"StaysInNights\",hue=\"IsCanceled\",data=hotel_lisbon)\n",
    "\n",
    "print('\\nThis plot shows us that the outliers/extreme values are important as they show difference in behaviour in terms of cancellation of hotel bookings and also shows us that StaysInNights is not that correlated to IsCanceled which we can also make out from the heatmap.')"
   ]
  },
  {
   "cell_type": "code",
   "execution_count": 15,
   "metadata": {
    "colab": {
     "base_uri": "https://localhost:8080/",
     "height": 475
    },
    "colab_type": "code",
    "id": "ncluZcPj8VQA",
    "outputId": "9a34c2ca-df89-4f98-c0dd-74cc3c26aa28"
   },
   "outputs": [
    {
     "name": "stdout",
     "output_type": "stream",
     "text": [
      "2.0    2251\n",
      "1.0     558\n",
      "3.0     184\n",
      "Name: Adults, dtype: int64\n",
      "\n",
      "The booking cancellation rate among the bookings with 2 adults is relatively high.\n"
     ]
    },
    {
     "data": {
      "image/png": "[encoded data removed]",
      "text/plain": [
       "<Figure size 360x360 with 1 Axes>"
      ]
     },
     "metadata": {
      "needs_background": "light"
     },
     "output_type": "display_data"
    }
   ],
   "source": [
    "print(hotel_lisbon.Adults.value_counts())\n",
    "\n",
    "#Plot to show how number of adults affects the hotel booking cancellation rate\n",
    "requests=sns.catplot(x=\"Adults\", y=\"IsCanceled\", kind=\"point\", ci=None, data=hotel_lisbon);\n",
    "(requests.set_axis_labels(\"Number of Adults\", \"Hotel Booking Cancellation Rate\")\n",
    "        .set(ylim=(0, 1)))\n",
    "print('\\nThe booking cancellation rate among the bookings with 2 adults is relatively high.')"
   ]
  },
  {
   "cell_type": "code",
   "execution_count": 16,
   "metadata": {
    "colab": {
     "base_uri": "https://localhost:8080/",
     "height": 390
    },
    "colab_type": "code",
    "id": "bdGpbUFc8Xpx",
    "outputId": "66c9b771-2117-4f08-acd7-a59478e00861"
   },
   "outputs": [
    {
     "name": "stdout",
     "output_type": "stream",
     "text": [
      "There is not much significant difference in Cancellation rate among the two levels. Also no correlation between Children and IsCanceled from the heatmap.\n"
     ]
    },
    {
     "data": {
      "image/png": "[encoded data removed]",
      "text/plain": [
       "<Figure size 360x360 with 1 Axes>"
      ]
     },
     "metadata": {
      "needs_background": "light"
     },
     "output_type": "display_data"
    }
   ],
   "source": [
    "#Hotel Booking Cancellation Rate v Children using Seaborn \n",
    "chld=sns.catplot(x=\"Children\",y=\"IsCanceled\",data=hotel_lisbon,saturation=0.5,kind=\"bar\",ci=None,aspect=1,palette=\"Set1\")\n",
    "(chld.set_axis_labels(\"Children\", \"Hotel Booking Cancellation Rate\")\n",
    "  .set_xticklabels([\"No Child\", \"Atleast one child\"])\n",
    "  .set_titles(\"{col_name} {col_var}\")\n",
    "  .set(ylim=(0, 1))\n",
    "  .despine(left=True))\n",
    "\n",
    "print('There is not much significant difference in Cancellation rate among the two levels. Also no correlation between Children and IsCanceled from the heatmap.')"
   ]
  },
  {
   "cell_type": "code",
   "execution_count": 17,
   "metadata": {
    "colab": {
     "base_uri": "https://localhost:8080/",
     "height": 68
    },
    "colab_type": "code",
    "id": "XeHm3Cgn8bGy",
    "outputId": "12fcba46-2172-4190-8962-82261ea38653"
   },
   "outputs": [
    {
     "name": "stdout",
     "output_type": "stream",
     "text": [
      "\n",
      "We will still include Adults and Children in our predictive model but not Babies as almost all hotel bookings in our data have babies absent.\n",
      "The percentage of hotel bookings with atleast one baby is 0.40\n"
     ]
    }
   ],
   "source": [
    "print('\\nWe will still include Adults and Children in our predictive model but not Babies as almost all hotel bookings in our data have babies absent.')\n",
    "print('The percentage of hotel bookings with atleast one baby is {:.2f}'.format(hotel_lisbon[hotel_lisbon['Babies']==1].shape[0]/hotel_lisbon.shape[0]*100))"
   ]
  },
  {
   "cell_type": "code",
   "execution_count": 18,
   "metadata": {
    "colab": {
     "base_uri": "https://localhost:8080/",
     "height": 614
    },
    "colab_type": "code",
    "id": "6cbiZ-468fIJ",
    "outputId": "85ea4642-73f2-4646-fae5-960ceeca7ecb"
   },
   "outputs": [
    {
     "name": "stdout",
     "output_type": "stream",
     "text": [
      "From the heatmap, we see moderate to strong correlation (0.52) between IsCanceled and Deposit and moderate correlation (0.37) between IsCanceled and CountryPRT. Therefore we shall consider Deposit and CountryPRT in our predictive model.\n",
      "\n",
      "0.0    1905\n",
      "1.0    1088\n",
      "Name: CountryPRT, dtype: int64\n",
      "\n",
      "\n",
      "0.0    2519\n",
      "1.0     474\n",
      "Name: Deposit, dtype: int64\n",
      "\n",
      "\n"
     ]
    },
    {
     "data": {
      "text/plain": [
       "<seaborn.axisgrid.FacetGrid at 0x235a1bacc50>"
      ]
     },
     "execution_count": 18,
     "metadata": {},
     "output_type": "execute_result"
    },
    {
     "data": {
      "image/png": "[encoded data removed]",
      "text/plain": [
       "<Figure size 360x360 with 1 Axes>"
      ]
     },
     "metadata": {
      "needs_background": "light"
     },
     "output_type": "display_data"
    }
   ],
   "source": [
    "print('From the heatmap, we see moderate to strong correlation (0.52) between IsCanceled and Deposit and moderate correlation (0.37) between IsCanceled and CountryPRT. Therefore we shall consider Deposit and CountryPRT in our predictive model.\\n')\n",
    "\n",
    "#Frequency Distribution of CountryPRT and Deposit\n",
    "for col in ['CountryPRT','Deposit']:\n",
    "    print(hotel_lisbon[col].value_counts())\n",
    "    print('\\n')\n",
    "\n",
    "#Hotel Booking Cancellation Rate v Deposit using Seaborn \n",
    "dep=sns.catplot(x=\"Deposit\",y=\"IsCanceled\",data=hotel_lisbon,saturation=0.5,kind=\"bar\",ci=None,aspect=1,palette=\"Set1\")\n",
    "(dep.set_axis_labels(\"Deposit\", \"Hotel Booking Cancellation Rate\")\n",
    "  .set_xticklabels([\"No Deposit\", \"Deposit\"])\n",
    "  .set_titles(\"{col_name} {col_var}\")\n",
    "  .set(ylim=(0, 1))\n",
    "  .despine(left=True))\n"
   ]
  },
  {
   "cell_type": "code",
   "execution_count": 19,
   "metadata": {
    "colab": {
     "base_uri": "https://localhost:8080/",
     "height": 390
    },
    "colab_type": "code",
    "id": "QrrdJq9N8gVB",
    "outputId": "cdd3c682-7d30-4b10-b797-ccf4b1225a43"
   },
   "outputs": [
    {
     "data": {
      "text/plain": [
       "<seaborn.axisgrid.FacetGrid at 0x235a1ab7cc0>"
      ]
     },
     "execution_count": 19,
     "metadata": {},
     "output_type": "execute_result"
    },
    {
     "data": {
      "image/png": "[encoded data removed]",
      "text/plain": [
       "<Figure size 360x360 with 1 Axes>"
      ]
     },
     "metadata": {
      "needs_background": "light"
     },
     "output_type": "display_data"
    }
   ],
   "source": [
    "#Hotel Booking Cancellation Rate v CountryPRT using Seaborn \n",
    "cprt=sns.catplot(x=\"CountryPRT\",y=\"IsCanceled\",data=hotel_lisbon,saturation=0.5,kind=\"bar\",ci=None,aspect=1,palette=\"Set1\")\n",
    "(cprt.set_axis_labels(\"Country of Origin\", \"Hotel Booking Cancellation Rate\")\n",
    "  .set_xticklabels([\"Not Portugal\", \"Portugal\"])\n",
    "  .set_titles(\"{col_name} {col_var}\")\n",
    "  .set(ylim=(0, 1))\n",
    "  .despine(left=True))"
   ]
  },
  {
   "cell_type": "code",
   "execution_count": 20,
   "metadata": {
    "colab": {
     "base_uri": "https://localhost:8080/",
     "height": 427
    },
    "colab_type": "code",
    "id": "Gx0ZXH8a8isI",
    "outputId": "6c58864c-590e-4334-8a95-72b26b9ff44a"
   },
   "outputs": [
    {
     "name": "stdout",
     "output_type": "stream",
     "text": [
      "\n",
      "Generally, customers who make more number of special requests do not cancel i.e. the hotel booking cancellation rate among them is quite low. Therefore, we will include TotalOfSpecialRequests column in our predictive model\n"
     ]
    },
    {
     "data": {
      "image/png": "[encoded data removed]",
      "text/plain": [
       "<Figure size 360x360 with 1 Axes>"
      ]
     },
     "metadata": {
      "needs_background": "light"
     },
     "output_type": "display_data"
    }
   ],
   "source": [
    "#Plot to show how number of special requests made by customer affects the hotel booking cancellation rate\n",
    "requests=sns.catplot(x=\"TotalOfSpecialRequests\", y=\"IsCanceled\", kind=\"point\", ci=None, data=hotel_lisbon);\n",
    "(requests.set_axis_labels(\"Number of Special Requests made by customer\", \"Hotel Booking Cancellation Rate\")\n",
    "        .set(ylim=(0, 1)))\n",
    "print('\\nGenerally, customers who make more number of special requests do not cancel i.e. the hotel booking cancellation rate among them is quite low. Therefore, we will include TotalOfSpecialRequests column in our predictive model')\n"
   ]
  },
  {
   "cell_type": "code",
   "execution_count": 21,
   "metadata": {
    "colab": {
     "base_uri": "https://localhost:8080/",
     "height": 478
    },
    "colab_type": "code",
    "id": "fxt1_ugn8kj7",
    "outputId": "14bcafd9-e7f5-4001-8b2e-950fa570e4db"
   },
   "outputs": [
    {
     "name": "stdout",
     "output_type": "stream",
     "text": [
      "0    2912\n",
      "1      81\n",
      "Name: RequiredCarParkingSpaces, dtype: int64\n",
      "\n",
      "In our data, customers who require parking space are not cancelling their hotel booking, thus making this variable an important feature to use in the predictive model.\n"
     ]
    },
    {
     "data": {
      "image/png": "[encoded data removed]",
      "text/plain": [
       "<Figure size 360x360 with 1 Axes>"
      ]
     },
     "metadata": {
      "needs_background": "light"
     },
     "output_type": "display_data"
    }
   ],
   "source": [
    "print(hotel_lisbon.RequiredCarParkingSpaces.value_counts())\n",
    "\n",
    "#Hotel Booking Cancellation Rate v RequiredCarParkingSpaces using Seaborn \n",
    "carpark=sns.catplot(x=\"RequiredCarParkingSpaces\",y=\"IsCanceled\",data=hotel_lisbon,saturation=0.5,kind=\"bar\",ci=None,aspect=1,palette=\"Set1\")\n",
    "(carpark.set_axis_labels(\"Required Car Parking Space\", \"Hotel Booking Cancellation Rate\")\n",
    "  .set_xticklabels([\"No\", \"Yes\"])\n",
    "  .set_titles(\"{col_name} {col_var}\")\n",
    "  .set(ylim=(0, 1))\n",
    "  .despine(left=True))\n",
    "\n",
    "print('\\nIn our data, customers who require parking space are not cancelling their hotel booking, thus making this variable an important feature to use in the predictive model.')"
   ]
  },
  {
   "cell_type": "code",
   "execution_count": 22,
   "metadata": {
    "colab": {
     "base_uri": "https://localhost:8080/",
     "height": 54
    },
    "colab_type": "code",
    "id": "r5LHDgJY8mmW",
    "outputId": "cf5d9573-9a2a-4085-ec3f-f1ee1a6f34a5"
   },
   "outputs": [
    {
     "name": "stdout",
     "output_type": "stream",
     "text": [
      "We shall also include PreviousCancellations and BookingChanges in our predictive model. Therefore the numeric columns to be included in our predictive model are - LeadTime, StaysInNights, Adults, Children, CountryPRT, PreviousCancellations, BookingChanges, Deposit, RequiredCarParkingSpaces and TotalOfSpecialRequests.\n"
     ]
    }
   ],
   "source": [
    "print('We shall also include PreviousCancellations and BookingChanges in our predictive model. Therefore the numeric columns to be included in our predictive model are - LeadTime, StaysInNights, Adults, Children, CountryPRT, PreviousCancellations, BookingChanges, Deposit, RequiredCarParkingSpaces and TotalOfSpecialRequests.')"
   ]
  },
  {
   "cell_type": "code",
   "execution_count": 23,
   "metadata": {
    "colab": {
     "base_uri": "https://localhost:8080/",
     "height": 850
    },
    "colab_type": "code",
    "id": "a13VeEjR8ovL",
    "outputId": "a6f2f298-6fdf-44a0-df2c-0784b6c2fd7c"
   },
   "outputs": [
    {
     "name": "stdout",
     "output_type": "stream",
     "text": [
      "May          491\n",
      "August       335\n",
      "June         299\n",
      "July         295\n",
      "April        274\n",
      "October      260\n",
      "September    255\n",
      "March        210\n",
      "February     186\n",
      "November     137\n",
      "December     137\n",
      "January      114\n",
      "Name: ArrivalDateMonth, dtype: int64\n",
      "\n",
      "\n",
      "BB           2375\n",
      "SC            383\n",
      "HB            235\n",
      "Name: Meal, dtype: int64\n",
      "\n",
      "\n",
      "Online TA        1548\n",
      "Offline TA/TO     600\n",
      "Groups            509\n",
      "Direct            210\n",
      "Corporate         106\n",
      "Complementary      15\n",
      "Aviation            5\n",
      "Name: MarketSegment, dtype: int64\n",
      "\n",
      "\n",
      "Transient          2269\n",
      "Transient-Party     612\n",
      "Contract            102\n",
      "Group                10\n",
      "Name: CustomerType, dtype: int64\n",
      "\n",
      "\n",
      "A                   2184\n",
      "D                    559\n",
      "F                     74\n",
      "E                     66\n",
      "B                     63\n",
      "G                     37\n",
      "K                      7\n",
      "C                      3\n",
      "Name: AssignedRoomType, dtype: int64\n",
      "\n",
      "\n"
     ]
    }
   ],
   "source": [
    "#Frequency Distribution of Levels of Nominal Column - Inspecting those nominal columns that could be useful for ML modeling\n",
    "for col in ['ArrivalDateMonth','Meal','MarketSegment','CustomerType','AssignedRoomType']:\n",
    "    print(hotel_lisbon[col].value_counts())\n",
    "    print('\\n')"
   ]
  },
  {
   "cell_type": "code",
   "execution_count": 24,
   "metadata": {
    "colab": {
     "base_uri": "https://localhost:8080/",
     "height": 272
    },
    "colab_type": "code",
    "id": "5XB-ZUIB8sNH",
    "outputId": "78dac4b7-7c3a-4239-8dec-bcb063d13473"
   },
   "outputs": [
    {
     "name": "stdout",
     "output_type": "stream",
     "text": [
      "Online TA        1548\n",
      "Offline TA/TO     600\n",
      "Groups            509\n",
      "Direct            210\n",
      "Other             126\n",
      "Name: MarketSegment, dtype: int64\n",
      "\n",
      "\n",
      "A                   2184\n",
      "D                    559\n",
      "F                     74\n",
      "E                     66\n",
      "B                     63\n",
      "Other                 47\n",
      "Name: AssignedRoomType, dtype: int64\n"
     ]
    }
   ],
   "source": [
    "#Feature Engineering MarketSegment column by grouping segments 'Corporate','Complementary' and 'Aviation' as 'Other' due to their low frequency count\n",
    "hotel_lisbon['MarketSegment']=['Other' if item.startswith('Corporate') or item.startswith('Complementary') or item.startswith('Aviation') else item for item in hotel_lisbon['MarketSegment']] \n",
    "print(hotel_lisbon['MarketSegment'].value_counts())\n",
    "\n",
    "print('\\n')\n",
    "\n",
    "#Feature Engineering AssignedRoomType column by grouping room types 'G','K' and 'C'as 'Other' due to their low frequency count\n",
    "hotel_lisbon['AssignedRoomType']=['Other' if item.startswith('G') or item.startswith('K') or item.startswith('C') else item for item in hotel_lisbon['AssignedRoomType']] \n",
    "print(hotel_lisbon['AssignedRoomType'].value_counts())"
   ]
  },
  {
   "cell_type": "code",
   "execution_count": 25,
   "metadata": {
    "colab": {
     "base_uri": "https://localhost:8080/",
     "height": 577
    },
    "colab_type": "code",
    "id": "9ufrD7p88tTl",
    "outputId": "5672fe0c-f8d8-4b9a-d341-21e1542b7d42"
   },
   "outputs": [
    {
     "name": "stdout",
     "output_type": "stream",
     "text": [
      "           MarketSegment                                                \n",
      "                  Direct  Groups Offline TA/TO Online TA   Other     All\n",
      "IsCanceled                                                              \n",
      "0                  85.71   32.22         57.67     61.69   84.92   58.54\n",
      "1                  14.29   67.78         42.33     38.31   15.08   41.46\n",
      "All               100.00  100.00        100.00    100.00  100.00  100.00\n",
      "                Chi-square test   results\n",
      "0  Pearson Chi-square ( 4.0) =   251.8236\n",
      "1                    p-value =     0.0000\n",
      "2                 Cramer's V =     0.2901\n",
      "\n",
      "We shall include MarketSegment in our predictive model.\n"
     ]
    },
    {
     "data": {
      "image/png": "[encoded data removed]",
      "text/plain": [
       "<Figure size 720x360 with 1 Axes>"
      ]
     },
     "metadata": {
      "needs_background": "light"
     },
     "output_type": "display_data"
    }
   ],
   "source": [
    "#Chi-square test of independence between 'IsCanceled' column and 'MarketSegment' column to give measure of association (Cramer's V) between the two variables\n",
    "table1, results1 = rp.crosstab(hotel_lisbon['IsCanceled'], hotel_lisbon['MarketSegment'], prop = 'col', test = 'chi-square') \n",
    "print(table1)\n",
    "print(results1)\n",
    "\n",
    "#Hotel Booking Cancellation Rate v Market Segment using Seaborn\n",
    "mkt=sns.catplot(x=\"MarketSegment\",y=\"IsCanceled\",data=hotel_lisbon,saturation=0.5,kind=\"bar\",ci=None,aspect=2,palette=\"Set1\")\n",
    "(mkt.set_axis_labels(\"Market Segment\", \"Hotel Booking Cancellation Rate\")\n",
    "  .set_xticklabels([\"Online TA\", \"Offline TA/TO\", \"Direct\",\"Groups\",\"Other\"])\n",
    "  .set_titles(\"{col_name} {col_var}\")\n",
    "  .set(ylim=(0, 1))\n",
    "  .despine(left=True))\n",
    "\n",
    "print('\\nWe shall include MarketSegment in our predictive model.')"
   ]
  },
  {
   "cell_type": "code",
   "execution_count": 26,
   "metadata": {
    "colab": {
     "base_uri": "https://localhost:8080/",
     "height": 577
    },
    "colab_type": "code",
    "id": "21pbYEmA8vH1",
    "outputId": "010520c9-6510-4fe9-e9d7-92933c5f41b9"
   },
   "outputs": [
    {
     "name": "stdout",
     "output_type": "stream",
     "text": [
      "           CustomerType                                         \n",
      "               Contract  Group Transient Transient-Party     All\n",
      "IsCanceled                                                      \n",
      "0                  50.0   90.0     55.27           71.57   58.54\n",
      "1                  50.0   10.0     44.73           28.43   41.46\n",
      "All               100.0  100.0    100.00          100.00  100.00\n",
      "                Chi-square test  results\n",
      "0  Pearson Chi-square ( 3.0) =   59.9608\n",
      "1                    p-value =    0.0000\n",
      "2                 Cramer's V =    0.1415\n",
      "\n",
      "We shall include CustomerType in our predictive model.\n"
     ]
    },
    {
     "data": {
      "image/png": "[encoded data removed]",
      "text/plain": [
       "<Figure size 540x360 with 1 Axes>"
      ]
     },
     "metadata": {
      "needs_background": "light"
     },
     "output_type": "display_data"
    }
   ],
   "source": [
    "#Chi-square test of independence between 'IsCanceled' column and 'CustomerType' column to give measure of association (Cramer's V) between the two variables\n",
    "table2, results2 = rp.crosstab(hotel_lisbon['IsCanceled'], hotel_lisbon['CustomerType'], prop = 'col', test = 'chi-square') \n",
    "print(table2)\n",
    "print(results2)\n",
    "\n",
    "#Hotel Booking Cancellation Rate v CustomerType using Seaborn\n",
    "cust=sns.catplot(x=\"CustomerType\",y=\"IsCanceled\",data=hotel_lisbon,saturation=0.5,kind=\"bar\",ci=None,aspect=1.5,palette=\"Set1\")\n",
    "(cust.set_axis_labels(\"Customer Type\", \"Hotel Booking Cancellation Rate\")\n",
    "  .set_xticklabels([\"Transient\", \"Transient-Party\", \"Contract\",\"Group\"])\n",
    "  .set_titles(\"{col_name} {col_var}\")\n",
    "  .set(ylim=(0, 1))\n",
    "  .despine(left=True))\n",
    "\n",
    "print('\\nWe shall include CustomerType in our predictive model.')"
   ]
  },
  {
   "cell_type": "code",
   "execution_count": 27,
   "metadata": {
    "colab": {
     "base_uri": "https://localhost:8080/",
     "height": 611
    },
    "colab_type": "code",
    "id": "2cqXPrcJ8xZX",
    "outputId": "0a01e81b-797d-4d68-ffb1-56ce294f1f62"
   },
   "outputs": [
    {
     "name": "stdout",
     "output_type": "stream",
     "text": [
      "           AssignedRoomType                                    \\\n",
      "           A                B                D                  \n",
      "IsCanceled                                                      \n",
      "0                      53.3            82.54            69.77   \n",
      "1                      46.7            17.46            30.23   \n",
      "All                   100.0           100.00           100.00   \n",
      "\n",
      "                                                              \n",
      "           E                F                  Other     All  \n",
      "IsCanceled                                                    \n",
      "0                     78.79            70.27   89.36   58.54  \n",
      "1                     21.21            29.73   10.64   41.46  \n",
      "All                  100.00           100.00  100.00  100.00  \n",
      "                Chi-square test   results\n",
      "0  Pearson Chi-square ( 5.0) =   102.4605\n",
      "1                    p-value =     0.0000\n",
      "2                 Cramer's V =     0.1850\n",
      "\n",
      "We shall include AssignedRoomType in our predictive model.\n"
     ]
    },
    {
     "data": {
      "image/png": "[encoded data removed]",
      "text/plain": [
       "<Figure size 720x360 with 1 Axes>"
      ]
     },
     "metadata": {
      "needs_background": "light"
     },
     "output_type": "display_data"
    }
   ],
   "source": [
    "#Chi-square test of independence between 'IsCanceled' column and 'AssignedRoomType' column to give measure of association (Cramer's V) between the two variables\n",
    "table3, results3 = rp.crosstab(hotel_lisbon['IsCanceled'], hotel_lisbon['AssignedRoomType'], prop = 'col', test = 'chi-square') \n",
    "print(table3)\n",
    "print(results3)\n",
    "\n",
    "#Hotel Booking Cancellation Rate v Assigned Room Type using Seaborn\n",
    "assgn=sns.catplot(x=\"AssignedRoomType\",y=\"IsCanceled\",data=hotel_lisbon,saturation=0.5,kind=\"bar\",ci=None,aspect=2,palette=\"Set1\")\n",
    "(assgn.set_axis_labels(\"Assigned Room Type\", \"Hotel Booking Cancellation Rate\")\n",
    "  .set_xticklabels([\"A\", \"E\", \"D\", \"B\", \"Other\", \"F\"])\n",
    "  .set_titles(\"{col_name} {col_var}\")\n",
    "  .set(ylim=(0, 1))\n",
    "  .despine(left=True))\n",
    "\n",
    "print('\\nWe shall include AssignedRoomType in our predictive model.')"
   ]
  },
  {
   "cell_type": "code",
   "execution_count": 28,
   "metadata": {
    "colab": {
     "base_uri": "https://localhost:8080/",
     "height": 34
    },
    "colab_type": "code",
    "id": "V1qcr1IZ8zpV",
    "outputId": "faa92f65-bffa-4264-b1b0-2de9f4774a95"
   },
   "outputs": [
    {
     "name": "stdout",
     "output_type": "stream",
     "text": [
      "Therefore the object columns we will include in our predictive model are - MarketSegment,CustomerType and AssignedRoomType.\n"
     ]
    }
   ],
   "source": [
    "print('Therefore the object columns we will include in our predictive model are - MarketSegment,CustomerType and AssignedRoomType.')"
   ]
  },
  {
   "cell_type": "markdown",
   "metadata": {
    "colab_type": "text",
    "id": "5F74GkWH9G5r"
   },
   "source": [
    "# Preparing Data for ML Modeling - Selected the below features for prediction of hotel booking cancellations\n",
    "\n",
    "> Numeric Columns: LeadTime, StaysInNights, Adults, Children, CountryPRT, PreviousCancellations, BookingChanges, Deposit, RequiredCarParkingSpaces and TotalOfSpecialRequests.\n",
    "\n",
    "> Object Columns: MarketSegment, CustomerType, AssignedRoomType."
   ]
  },
  {
   "cell_type": "code",
   "execution_count": 29,
   "metadata": {
    "colab": {
     "base_uri": "https://localhost:8080/",
     "height": 241
    },
    "colab_type": "code",
    "id": "sNqQoq0Z9F6s",
    "outputId": "e22a4a9b-bc03-4730-97b1-3bc86340d5f0"
   },
   "outputs": [
    {
     "data": {
      "text/html": [
       "<div>\n",
       "<style scoped>\n",
       "    .dataframe tbody tr th:only-of-type {\n",
       "        vertical-align: middle;\n",
       "    }\n",
       "\n",
       "    .dataframe tbody tr th {\n",
       "        vertical-align: top;\n",
       "    }\n",
       "\n",
       "    .dataframe thead th {\n",
       "        text-align: right;\n",
       "    }\n",
       "</style>\n",
       "<table border=\"1\" class=\"dataframe\">\n",
       "  <thead>\n",
       "    <tr style=\"text-align: right;\">\n",
       "      <th></th>\n",
       "      <th>IsCanceled</th>\n",
       "      <th>LeadTime</th>\n",
       "      <th>StaysInNights</th>\n",
       "      <th>Adults</th>\n",
       "      <th>Children</th>\n",
       "      <th>CountryPRT</th>\n",
       "      <th>PreviousCancellations</th>\n",
       "      <th>BookingChanges</th>\n",
       "      <th>Deposit</th>\n",
       "      <th>RequiredCarParkingSpaces</th>\n",
       "      <th>...</th>\n",
       "      <th>MarketSegment_Online TA</th>\n",
       "      <th>MarketSegment_Other</th>\n",
       "      <th>CustomerType_Group</th>\n",
       "      <th>CustomerType_Transient</th>\n",
       "      <th>CustomerType_Transient-Party</th>\n",
       "      <th>AssignedRoomType_B</th>\n",
       "      <th>AssignedRoomType_D</th>\n",
       "      <th>AssignedRoomType_E</th>\n",
       "      <th>AssignedRoomType_F</th>\n",
       "      <th>AssignedRoomType_Other</th>\n",
       "    </tr>\n",
       "  </thead>\n",
       "  <tbody>\n",
       "    <tr>\n",
       "      <th>0</th>\n",
       "      <td>0</td>\n",
       "      <td>192.0</td>\n",
       "      <td>4.0</td>\n",
       "      <td>2.0</td>\n",
       "      <td>0</td>\n",
       "      <td>0.0</td>\n",
       "      <td>0.0</td>\n",
       "      <td>2.0</td>\n",
       "      <td>0.0</td>\n",
       "      <td>0</td>\n",
       "      <td>...</td>\n",
       "      <td>1</td>\n",
       "      <td>0</td>\n",
       "      <td>0</td>\n",
       "      <td>1</td>\n",
       "      <td>0</td>\n",
       "      <td>0</td>\n",
       "      <td>0</td>\n",
       "      <td>0</td>\n",
       "      <td>0</td>\n",
       "      <td>0</td>\n",
       "    </tr>\n",
       "    <tr>\n",
       "      <th>1</th>\n",
       "      <td>0</td>\n",
       "      <td>23.0</td>\n",
       "      <td>1.0</td>\n",
       "      <td>3.0</td>\n",
       "      <td>0</td>\n",
       "      <td>0.0</td>\n",
       "      <td>0.0</td>\n",
       "      <td>1.0</td>\n",
       "      <td>0.0</td>\n",
       "      <td>0</td>\n",
       "      <td>...</td>\n",
       "      <td>0</td>\n",
       "      <td>0</td>\n",
       "      <td>0</td>\n",
       "      <td>1</td>\n",
       "      <td>0</td>\n",
       "      <td>0</td>\n",
       "      <td>0</td>\n",
       "      <td>0</td>\n",
       "      <td>0</td>\n",
       "      <td>0</td>\n",
       "    </tr>\n",
       "    <tr>\n",
       "      <th>2</th>\n",
       "      <td>1</td>\n",
       "      <td>17.0</td>\n",
       "      <td>2.0</td>\n",
       "      <td>3.0</td>\n",
       "      <td>0</td>\n",
       "      <td>0.0</td>\n",
       "      <td>0.0</td>\n",
       "      <td>0.0</td>\n",
       "      <td>0.0</td>\n",
       "      <td>0</td>\n",
       "      <td>...</td>\n",
       "      <td>1</td>\n",
       "      <td>0</td>\n",
       "      <td>0</td>\n",
       "      <td>1</td>\n",
       "      <td>0</td>\n",
       "      <td>0</td>\n",
       "      <td>0</td>\n",
       "      <td>0</td>\n",
       "      <td>0</td>\n",
       "      <td>0</td>\n",
       "    </tr>\n",
       "    <tr>\n",
       "      <th>3</th>\n",
       "      <td>0</td>\n",
       "      <td>19.0</td>\n",
       "      <td>2.0</td>\n",
       "      <td>1.0</td>\n",
       "      <td>0</td>\n",
       "      <td>0.0</td>\n",
       "      <td>0.0</td>\n",
       "      <td>0.0</td>\n",
       "      <td>0.0</td>\n",
       "      <td>0</td>\n",
       "      <td>...</td>\n",
       "      <td>1</td>\n",
       "      <td>0</td>\n",
       "      <td>0</td>\n",
       "      <td>1</td>\n",
       "      <td>0</td>\n",
       "      <td>0</td>\n",
       "      <td>0</td>\n",
       "      <td>0</td>\n",
       "      <td>0</td>\n",
       "      <td>0</td>\n",
       "    </tr>\n",
       "    <tr>\n",
       "      <th>4</th>\n",
       "      <td>0</td>\n",
       "      <td>4.0</td>\n",
       "      <td>2.0</td>\n",
       "      <td>2.0</td>\n",
       "      <td>0</td>\n",
       "      <td>0.0</td>\n",
       "      <td>0.0</td>\n",
       "      <td>0.0</td>\n",
       "      <td>0.0</td>\n",
       "      <td>0</td>\n",
       "      <td>...</td>\n",
       "      <td>0</td>\n",
       "      <td>0</td>\n",
       "      <td>0</td>\n",
       "      <td>1</td>\n",
       "      <td>0</td>\n",
       "      <td>0</td>\n",
       "      <td>0</td>\n",
       "      <td>1</td>\n",
       "      <td>0</td>\n",
       "      <td>0</td>\n",
       "    </tr>\n",
       "  </tbody>\n",
       "</table>\n",
       "<p>5 rows × 23 columns</p>\n",
       "</div>"
      ],
      "text/plain": [
       "   IsCanceled  LeadTime  StaysInNights  Adults  Children  CountryPRT  \\\n",
       "0           0     192.0            4.0     2.0         0         0.0   \n",
       "1           0      23.0            1.0     3.0         0         0.0   \n",
       "2           1      17.0            2.0     3.0         0         0.0   \n",
       "3           0      19.0            2.0     1.0         0         0.0   \n",
       "4           0       4.0            2.0     2.0         0         0.0   \n",
       "\n",
       "   PreviousCancellations  BookingChanges  Deposit  RequiredCarParkingSpaces  \\\n",
       "0                    0.0             2.0      0.0                         0   \n",
       "1                    0.0             1.0      0.0                         0   \n",
       "2                    0.0             0.0      0.0                         0   \n",
       "3                    0.0             0.0      0.0                         0   \n",
       "4                    0.0             0.0      0.0                         0   \n",
       "\n",
       "   ...  MarketSegment_Online TA  MarketSegment_Other  CustomerType_Group  \\\n",
       "0  ...                        1                    0                   0   \n",
       "1  ...                        0                    0                   0   \n",
       "2  ...                        1                    0                   0   \n",
       "3  ...                        1                    0                   0   \n",
       "4  ...                        0                    0                   0   \n",
       "\n",
       "   CustomerType_Transient  CustomerType_Transient-Party  \\\n",
       "0                       1                             0   \n",
       "1                       1                             0   \n",
       "2                       1                             0   \n",
       "3                       1                             0   \n",
       "4                       1                             0   \n",
       "\n",
       "   AssignedRoomType_B                 AssignedRoomType_D                 \\\n",
       "0                                  0                                  0   \n",
       "1                                  0                                  0   \n",
       "2                                  0                                  0   \n",
       "3                                  0                                  0   \n",
       "4                                  0                                  0   \n",
       "\n",
       "   AssignedRoomType_E                 AssignedRoomType_F                 \\\n",
       "0                                  0                                  0   \n",
       "1                                  0                                  0   \n",
       "2                                  0                                  0   \n",
       "3                                  0                                  0   \n",
       "4                                  1                                  0   \n",
       "\n",
       "   AssignedRoomType_Other  \n",
       "0                       0  \n",
       "1                       0  \n",
       "2                       0  \n",
       "3                       0  \n",
       "4                       0  \n",
       "\n",
       "[5 rows x 23 columns]"
      ]
     },
     "execution_count": 29,
     "metadata": {},
     "output_type": "execute_result"
    }
   ],
   "source": [
    "#Creating another dataframe 'hotel_lisbon_model' which is our feature data consisting of dependent and independent variables that we will be using for ML modeling\n",
    "hotel_lisbon_model = hotel_lisbon[['IsCanceled','LeadTime','StaysInNights','Adults','Children','CountryPRT','PreviousCancellations','BookingChanges','Deposit','RequiredCarParkingSpaces','TotalOfSpecialRequests','MarketSegment','CustomerType', 'AssignedRoomType']]\n",
    "\n",
    "#OneHotEncoding Categorical Variables using get_dummies for ML modeling\n",
    "hotel_lisbon_model = pd.get_dummies(hotel_lisbon_model, prefix_sep='_', drop_first=True)\n",
    "hotel_lisbon_model.head()"
   ]
  },
  {
   "cell_type": "code",
   "execution_count": 30,
   "metadata": {
    "colab": {
     "base_uri": "https://localhost:8080/",
     "height": 241
    },
    "colab_type": "code",
    "id": "XRXEde339LaQ",
    "outputId": "e3573065-f0ab-4a64-92f9-39430c3a99f1"
   },
   "outputs": [
    {
     "data": {
      "text/html": [
       "<div>\n",
       "<style scoped>\n",
       "    .dataframe tbody tr th:only-of-type {\n",
       "        vertical-align: middle;\n",
       "    }\n",
       "\n",
       "    .dataframe tbody tr th {\n",
       "        vertical-align: top;\n",
       "    }\n",
       "\n",
       "    .dataframe thead th {\n",
       "        text-align: right;\n",
       "    }\n",
       "</style>\n",
       "<table border=\"1\" class=\"dataframe\">\n",
       "  <thead>\n",
       "    <tr style=\"text-align: right;\">\n",
       "      <th></th>\n",
       "      <th>LeadTime</th>\n",
       "      <th>StaysInNights</th>\n",
       "      <th>Adults</th>\n",
       "      <th>Children</th>\n",
       "      <th>CountryPRT</th>\n",
       "      <th>PreviousCancellations</th>\n",
       "      <th>BookingChanges</th>\n",
       "      <th>Deposit</th>\n",
       "      <th>RequiredCarParkingSpaces</th>\n",
       "      <th>TotalOfSpecialRequests</th>\n",
       "      <th>...</th>\n",
       "      <th>MarketSegment_Online TA</th>\n",
       "      <th>MarketSegment_Other</th>\n",
       "      <th>CustomerType_Group</th>\n",
       "      <th>CustomerType_Transient</th>\n",
       "      <th>CustomerType_Transient-Party</th>\n",
       "      <th>AssignedRoomType_B</th>\n",
       "      <th>AssignedRoomType_D</th>\n",
       "      <th>AssignedRoomType_E</th>\n",
       "      <th>AssignedRoomType_F</th>\n",
       "      <th>AssignedRoomType_Other</th>\n",
       "    </tr>\n",
       "  </thead>\n",
       "  <tbody>\n",
       "    <tr>\n",
       "      <th>0</th>\n",
       "      <td>192.0</td>\n",
       "      <td>4.0</td>\n",
       "      <td>2.0</td>\n",
       "      <td>0</td>\n",
       "      <td>0.0</td>\n",
       "      <td>0.0</td>\n",
       "      <td>2.0</td>\n",
       "      <td>0.0</td>\n",
       "      <td>0</td>\n",
       "      <td>2.0</td>\n",
       "      <td>...</td>\n",
       "      <td>1</td>\n",
       "      <td>0</td>\n",
       "      <td>0</td>\n",
       "      <td>1</td>\n",
       "      <td>0</td>\n",
       "      <td>0</td>\n",
       "      <td>0</td>\n",
       "      <td>0</td>\n",
       "      <td>0</td>\n",
       "      <td>0</td>\n",
       "    </tr>\n",
       "    <tr>\n",
       "      <th>1</th>\n",
       "      <td>23.0</td>\n",
       "      <td>1.0</td>\n",
       "      <td>3.0</td>\n",
       "      <td>0</td>\n",
       "      <td>0.0</td>\n",
       "      <td>0.0</td>\n",
       "      <td>1.0</td>\n",
       "      <td>0.0</td>\n",
       "      <td>0</td>\n",
       "      <td>1.0</td>\n",
       "      <td>...</td>\n",
       "      <td>0</td>\n",
       "      <td>0</td>\n",
       "      <td>0</td>\n",
       "      <td>1</td>\n",
       "      <td>0</td>\n",
       "      <td>0</td>\n",
       "      <td>0</td>\n",
       "      <td>0</td>\n",
       "      <td>0</td>\n",
       "      <td>0</td>\n",
       "    </tr>\n",
       "    <tr>\n",
       "      <th>2</th>\n",
       "      <td>17.0</td>\n",
       "      <td>2.0</td>\n",
       "      <td>3.0</td>\n",
       "      <td>0</td>\n",
       "      <td>0.0</td>\n",
       "      <td>0.0</td>\n",
       "      <td>0.0</td>\n",
       "      <td>0.0</td>\n",
       "      <td>0</td>\n",
       "      <td>0.0</td>\n",
       "      <td>...</td>\n",
       "      <td>1</td>\n",
       "      <td>0</td>\n",
       "      <td>0</td>\n",
       "      <td>1</td>\n",
       "      <td>0</td>\n",
       "      <td>0</td>\n",
       "      <td>0</td>\n",
       "      <td>0</td>\n",
       "      <td>0</td>\n",
       "      <td>0</td>\n",
       "    </tr>\n",
       "    <tr>\n",
       "      <th>3</th>\n",
       "      <td>19.0</td>\n",
       "      <td>2.0</td>\n",
       "      <td>1.0</td>\n",
       "      <td>0</td>\n",
       "      <td>0.0</td>\n",
       "      <td>0.0</td>\n",
       "      <td>0.0</td>\n",
       "      <td>0.0</td>\n",
       "      <td>0</td>\n",
       "      <td>0.0</td>\n",
       "      <td>...</td>\n",
       "      <td>1</td>\n",
       "      <td>0</td>\n",
       "      <td>0</td>\n",
       "      <td>1</td>\n",
       "      <td>0</td>\n",
       "      <td>0</td>\n",
       "      <td>0</td>\n",
       "      <td>0</td>\n",
       "      <td>0</td>\n",
       "      <td>0</td>\n",
       "    </tr>\n",
       "    <tr>\n",
       "      <th>4</th>\n",
       "      <td>4.0</td>\n",
       "      <td>2.0</td>\n",
       "      <td>2.0</td>\n",
       "      <td>0</td>\n",
       "      <td>0.0</td>\n",
       "      <td>0.0</td>\n",
       "      <td>0.0</td>\n",
       "      <td>0.0</td>\n",
       "      <td>0</td>\n",
       "      <td>0.0</td>\n",
       "      <td>...</td>\n",
       "      <td>0</td>\n",
       "      <td>0</td>\n",
       "      <td>0</td>\n",
       "      <td>1</td>\n",
       "      <td>0</td>\n",
       "      <td>0</td>\n",
       "      <td>0</td>\n",
       "      <td>1</td>\n",
       "      <td>0</td>\n",
       "      <td>0</td>\n",
       "    </tr>\n",
       "  </tbody>\n",
       "</table>\n",
       "<p>5 rows × 22 columns</p>\n",
       "</div>"
      ],
      "text/plain": [
       "   LeadTime  StaysInNights  Adults  Children  CountryPRT  \\\n",
       "0     192.0            4.0     2.0         0         0.0   \n",
       "1      23.0            1.0     3.0         0         0.0   \n",
       "2      17.0            2.0     3.0         0         0.0   \n",
       "3      19.0            2.0     1.0         0         0.0   \n",
       "4       4.0            2.0     2.0         0         0.0   \n",
       "\n",
       "   PreviousCancellations  BookingChanges  Deposit  RequiredCarParkingSpaces  \\\n",
       "0                    0.0             2.0      0.0                         0   \n",
       "1                    0.0             1.0      0.0                         0   \n",
       "2                    0.0             0.0      0.0                         0   \n",
       "3                    0.0             0.0      0.0                         0   \n",
       "4                    0.0             0.0      0.0                         0   \n",
       "\n",
       "   TotalOfSpecialRequests  ...  MarketSegment_Online TA  MarketSegment_Other  \\\n",
       "0                     2.0  ...                        1                    0   \n",
       "1                     1.0  ...                        0                    0   \n",
       "2                     0.0  ...                        1                    0   \n",
       "3                     0.0  ...                        1                    0   \n",
       "4                     0.0  ...                        0                    0   \n",
       "\n",
       "   CustomerType_Group  CustomerType_Transient  CustomerType_Transient-Party  \\\n",
       "0                   0                       1                             0   \n",
       "1                   0                       1                             0   \n",
       "2                   0                       1                             0   \n",
       "3                   0                       1                             0   \n",
       "4                   0                       1                             0   \n",
       "\n",
       "   AssignedRoomType_B                 AssignedRoomType_D                 \\\n",
       "0                                  0                                  0   \n",
       "1                                  0                                  0   \n",
       "2                                  0                                  0   \n",
       "3                                  0                                  0   \n",
       "4                                  0                                  0   \n",
       "\n",
       "   AssignedRoomType_E                 AssignedRoomType_F                 \\\n",
       "0                                  0                                  0   \n",
       "1                                  0                                  0   \n",
       "2                                  0                                  0   \n",
       "3                                  0                                  0   \n",
       "4                                  1                                  0   \n",
       "\n",
       "   AssignedRoomType_Other  \n",
       "0                       0  \n",
       "1                       0  \n",
       "2                       0  \n",
       "3                       0  \n",
       "4                       0  \n",
       "\n",
       "[5 rows x 22 columns]"
      ]
     },
     "execution_count": 30,
     "metadata": {},
     "output_type": "execute_result"
    }
   ],
   "source": [
    "X = hotel_lisbon_model.drop(['IsCanceled'],axis=1)\n",
    "X.head()"
   ]
  },
  {
   "cell_type": "code",
   "execution_count": 31,
   "metadata": {
    "colab": {
     "base_uri": "https://localhost:8080/",
     "height": 119
    },
    "colab_type": "code",
    "id": "OwCb9Pv39pIy",
    "outputId": "5665d2d7-b403-41ab-9bc3-3c72a134f9ff"
   },
   "outputs": [
    {
     "data": {
      "text/plain": [
       "0    0\n",
       "1    0\n",
       "2    1\n",
       "3    0\n",
       "4    0\n",
       "Name: IsCanceled, dtype: int64"
      ]
     },
     "execution_count": 31,
     "metadata": {},
     "output_type": "execute_result"
    }
   ],
   "source": [
    "y = hotel_lisbon['IsCanceled']\n",
    "y.head()"
   ]
  },
  {
   "cell_type": "code",
   "execution_count": 32,
   "metadata": {
    "colab": {
     "base_uri": "https://localhost:8080/",
     "height": 34
    },
    "colab_type": "code",
    "id": "EZzUOSad9rUL",
    "outputId": "9557fdeb-a3f1-47e9-a5ee-52c1ca6f4d46"
   },
   "outputs": [
    {
     "name": "stdout",
     "output_type": "stream",
     "text": [
      "We will be using MinMaxScaler because we do not want our outliers to have reduced influence due to normalization.\n"
     ]
    }
   ],
   "source": [
    "#Scaling is very important as it brings all the features on a similar scale and helps algorithms perform better or converge faster\n",
    "from sklearn.preprocessing import MinMaxScaler\n",
    "print('We will be using MinMaxScaler because we do not want our outliers to have reduced influence due to normalization.')"
   ]
  },
  {
   "cell_type": "code",
   "execution_count": 33,
   "metadata": {
    "colab": {},
    "colab_type": "code",
    "id": "5oMhpVgh9tql"
   },
   "outputs": [],
   "source": [
    "from sklearn.model_selection import train_test_split"
   ]
  },
  {
   "cell_type": "code",
   "execution_count": 34,
   "metadata": {
    "colab": {
     "base_uri": "https://localhost:8080/",
     "height": 238
    },
    "colab_type": "code",
    "id": "H440h1D39wuF",
    "outputId": "f6c318ee-2b45-4bec-a422-5df77352a72f"
   },
   "outputs": [
    {
     "data": {
      "text/plain": [
       "array([[0.26341463, 0.        , 0.5       , ..., 0.        , 1.        ,\n",
       "        0.        ],\n",
       "       [0.24065041, 0.14285714, 0.5       , ..., 0.        , 0.        ,\n",
       "        0.        ],\n",
       "       [0.39837398, 0.35714286, 0.        , ..., 0.        , 0.        ,\n",
       "        0.        ],\n",
       "       ...,\n",
       "       [0.65853659, 0.07142857, 0.5       , ..., 0.        , 0.        ,\n",
       "        0.        ],\n",
       "       [0.00813008, 0.07142857, 0.5       , ..., 0.        , 0.        ,\n",
       "        0.        ],\n",
       "       [0.23739837, 0.21428571, 0.5       , ..., 0.        , 0.        ,\n",
       "        0.        ]])"
      ]
     },
     "execution_count": 34,
     "metadata": {},
     "output_type": "execute_result"
    }
   ],
   "source": [
    "X_train_org, X_test_org, y_train, y_test = train_test_split(X, y, random_state = 0, test_size = 0.3)\n",
    "\n",
    "scaler = MinMaxScaler()\n",
    "X_train = scaler.fit_transform(X_train_org)\n",
    "X_test = scaler.transform(X_test_org)\n",
    "\n",
    "X_train"
   ]
  },
  {
   "cell_type": "code",
   "execution_count": 35,
   "metadata": {
    "colab": {},
    "colab_type": "code",
    "id": "YJlKT9SD9xy_"
   },
   "outputs": [],
   "source": [
    "import numpy as np\n",
    "import pandas as pd\n",
    "import matplotlib.pyplot as plt\n",
    "import seaborn as sns\n",
    "from pandas.plotting import scatter_matrix\n",
    "\n",
    "#For model evaluation and development\n",
    "from sklearn.preprocessing import MinMaxScaler\n",
    "from sklearn.model_selection import train_test_split\n",
    "from sklearn.linear_model import LogisticRegression\n",
    "from sklearn.model_selection import GridSearchCV\n",
    "from sklearn.tree import DecisionTreeClassifier\n",
    "from sklearn.metrics import classification_report,accuracy_score,precision_score,recall_score,f1_score\n",
    "from sklearn.model_selection import cross_val_score\n",
    "from sklearn.ensemble import VotingClassifier\n",
    "from sklearn.ensemble import BaggingClassifier\n",
    "from sklearn.metrics import confusion_matrix\n",
    "from sklearn.ensemble import RandomForestClassifier\n",
    "from sklearn.ensemble import AdaBoostClassifier\n",
    "from sklearn.neighbors import KNeighborsClassifier\n",
    "from sklearn.model_selection import GridSearchCV\n",
    "\n",
    "import warnings\n",
    "warnings.filterwarnings('ignore')\n"
   ]
  },
  {
   "cell_type": "markdown",
   "metadata": {
    "colab_type": "text",
    "id": "CW_S1bmk96Sl"
   },
   "source": [
    "# Voting Classifier"
   ]
  },
  {
   "cell_type": "code",
   "execution_count": 36,
   "metadata": {
    "colab": {
     "base_uri": "https://localhost:8080/",
     "height": 51
    },
    "colab_type": "code",
    "id": "eCMEMpEZ9-zr",
    "outputId": "b3790ceb-4146-41a8-d713-dba216793992"
   },
   "outputs": [
    {
     "name": "stdout",
     "output_type": "stream",
     "text": [
      "Best parameters: {'C': 10, 'penalty': 'l1'}\n",
      "Best cross-validation score: 0.790931\n"
     ]
    }
   ],
   "source": [
    "param_grid_logistic = {'C': [0.001, 0.01, 0.1, 1, 10, 100], 'penalty':['l1','l2']}\n",
    "grid_search = GridSearchCV(LogisticRegression(), param_grid_logistic, cv=10, return_train_score=True, n_jobs= -1)\n",
    "grid_search.fit(X_train, y_train)\n",
    "print(\"Best parameters: {}\".format(grid_search.best_params_))\n",
    "print(\"Best cross-validation score: {:.6f}\".format(grid_search.best_score_))"
   ]
  },
  {
   "cell_type": "markdown",
   "metadata": {
    "colab_type": "text",
    "id": "aqJeyvJA_hmX"
   },
   "source": [
    "### Best parameters for decision tree classifier"
   ]
  },
  {
   "cell_type": "code",
   "execution_count": 37,
   "metadata": {
    "colab": {
     "base_uri": "https://localhost:8080/",
     "height": 102
    },
    "colab_type": "code",
    "id": "yKR9tHNk_mDV",
    "outputId": "05ddc33c-dc40-4330-8ef3-0fcde02eb0c0"
   },
   "outputs": [
    {
     "name": "stdout",
     "output_type": "stream",
     "text": [
      "Fitting 10 folds for each of 9 candidates, totalling 90 fits\n"
     ]
    },
    {
     "name": "stderr",
     "output_type": "stream",
     "text": [
      "[Parallel(n_jobs=-1)]: Using backend LokyBackend with 8 concurrent workers.\n"
     ]
    },
    {
     "name": "stdout",
     "output_type": "stream",
     "text": [
      "Best parameters: {'max_depth': 7}\n",
      "Best cross-validation score: 0.791408\n"
     ]
    },
    {
     "name": "stderr",
     "output_type": "stream",
     "text": [
      "[Parallel(n_jobs=-1)]: Done  34 tasks      | elapsed:    0.5s\n",
      "[Parallel(n_jobs=-1)]: Done  90 out of  90 | elapsed:    0.6s finished\n"
     ]
    }
   ],
   "source": [
    "param_grid = {'max_depth': np.arange(1, 10)}\n",
    "grid_search = GridSearchCV(DecisionTreeClassifier(random_state=0), param_grid, cv=10, return_train_score=True, verbose=True, n_jobs= -1)\n",
    "grid_search.fit(X_train, y_train)\n",
    "print(\"Best parameters: {}\".format(grid_search.best_params_))\n",
    "print(\"Best cross-validation score: {:.6f}\".format(grid_search.best_score_))"
   ]
  },
  {
   "cell_type": "code",
   "execution_count": 38,
   "metadata": {},
   "outputs": [
    {
     "name": "stdout",
     "output_type": "stream",
     "text": [
      "Best parameters: {'n_neighbors': 10}\n",
      "Best cross-validation score: 0.789499\n"
     ]
    }
   ],
   "source": [
    "param_grid = {'n_neighbors': np.arange(1, 25)}\n",
    "grid_search = GridSearchCV(KNeighborsClassifier(), param_grid, cv=10, n_jobs=-1)\n",
    "grid_search.fit(X_train, y_train)\n",
    "print(\"Best parameters: {}\".format(grid_search.best_params_))\n",
    "print(\"Best cross-validation score: {:.6f}\".format(grid_search.best_score_))"
   ]
  },
  {
   "cell_type": "markdown",
   "metadata": {
    "colab_type": "text",
    "id": "HTrt_gXJ_rN3"
   },
   "source": [
    "# Hard Voting "
   ]
  },
  {
   "cell_type": "code",
   "execution_count": 39,
   "metadata": {
    "colab": {
     "base_uri": "https://localhost:8080/",
     "height": 68
    },
    "colab_type": "code",
    "id": "wlZ_V9PT_tii",
    "outputId": "1f2dc121-5846-40aa-9ec3-6e7a9debc09f"
   },
   "outputs": [
    {
     "name": "stdout",
     "output_type": "stream",
     "text": [
      "LogisticRegression 0.776\n",
      "DecisionTreeClassifier 0.772\n",
      "KNeighborsClassifier 0.763\n",
      "VotingClassifier 0.78\n"
     ]
    }
   ],
   "source": [
    "log_clf = LogisticRegression(penalty= 'l1', C= 10, solver = 'liblinear')\n",
    "log_clf.fit(X_train, y_train)\n",
    "dt_clf = DecisionTreeClassifier(max_depth= 7)\n",
    "dt_clf.fit(X_train, y_train)\n",
    "knn_clf = KNeighborsClassifier(n_neighbors=10)\n",
    "knn_clf.fit(X_train, y_train)\n",
    "\n",
    "voting_clf = VotingClassifier(estimators=[('lr', log_clf), ('dt_clf', dt_clf), ('knn_clf', knn_clf)], voting='hard')\n",
    "voting_clf.fit(X_train, y_train)\n",
    "\n",
    "for clf in (log_clf, dt_clf, knn_clf, voting_clf):\n",
    "    clf.fit(X_train, y_train)\n",
    "    y_pred = clf.predict(X_test)\n",
    "    print(clf.__class__.__name__, accuracy_score(y_test, y_pred).round(3))"
   ]
  },
  {
   "cell_type": "markdown",
   "metadata": {
    "colab_type": "text",
    "id": "QBDP7seKARAR"
   },
   "source": [
    "# Soft Voting\n"
   ]
  },
  {
   "cell_type": "code",
   "execution_count": 40,
   "metadata": {
    "colab": {
     "base_uri": "https://localhost:8080/",
     "height": 68
    },
    "colab_type": "code",
    "id": "FV8D8v_tAQZ_",
    "outputId": "7e926371-a854-40d1-fccd-0e4286cf9d39"
   },
   "outputs": [
    {
     "name": "stdout",
     "output_type": "stream",
     "text": [
      "LogisticRegression 0.776\n",
      "DecisionTreeClassifier 0.772\n",
      "KNeighborsClassifier 0.763\n",
      "VotingClassifier 0.787\n"
     ]
    }
   ],
   "source": [
    "log_clf = LogisticRegression(penalty= 'l1', C= 10, solver = 'liblinear')\n",
    "log_clf.fit(X_train, y_train)\n",
    "dt_clf = DecisionTreeClassifier(max_depth= 7)\n",
    "dt_clf.fit(X_train, y_train)\n",
    "knn_clf = KNeighborsClassifier(n_neighbors=10)\n",
    "knn_clf.fit(X_train, y_train)\n",
    "\n",
    "voting_clf = VotingClassifier(estimators=[('lr', log_clf), ('dt_clf', dt_clf), ('knn_clf', knn_clf)], voting='soft')\n",
    "voting_clf.fit(X_train, y_train)\n",
    "\n",
    "for clf in (log_clf, dt_clf, knn_clf, voting_clf):\n",
    "    clf.fit(X_train, y_train)\n",
    "    y_pred = clf.predict(X_test)\n",
    "    print(clf.__class__.__name__, accuracy_score(y_test, y_pred).round(3))"
   ]
  },
  {
   "cell_type": "markdown",
   "metadata": {
    "colab_type": "text",
    "id": "cFLrAM7ZBM1i"
   },
   "source": [
    "# Bagging\n"
   ]
  },
  {
   "cell_type": "markdown",
   "metadata": {
    "colab_type": "text",
    "id": "Eu1iH2iwBSCO"
   },
   "source": [
    "#### Model 1 - Random Forest\n"
   ]
  },
  {
   "cell_type": "markdown",
   "metadata": {
    "colab_type": "text",
    "id": "MkgE8iCoBWJI"
   },
   "source": [
    "__Best parameter for Random Forest Classifier__"
   ]
  },
  {
   "cell_type": "code",
   "execution_count": 41,
   "metadata": {
    "colab": {
     "base_uri": "https://localhost:8080/",
     "height": 51
    },
    "colab_type": "code",
    "id": "2P88qjtMBcRY",
    "outputId": "f344f1de-5fa4-4495-a348-b47ba855cfd9"
   },
   "outputs": [
    {
     "name": "stdout",
     "output_type": "stream",
     "text": [
      "Best parameters: {'max_depth': 8, 'n_estimators': 500}\n",
      "Best cross-validation score: 0.81\n"
     ]
    }
   ],
   "source": [
    "param_grid = {'n_estimators': [50,100,200,500],\n",
    "              'max_depth': np.arange(1, 10)}\n",
    "\n",
    "grid_search = GridSearchCV(RandomForestClassifier(random_state=0), param_grid, cv=10, return_train_score=True, n_jobs= -1)\n",
    "grid_search.fit(X_train, y_train)\n",
    "print(\"Best parameters: {}\".format(grid_search.best_params_))\n",
    "print(\"Best cross-validation score: {:.2f}\".format(grid_search.best_score_))"
   ]
  },
  {
   "cell_type": "markdown",
   "metadata": {
    "colab_type": "text",
    "id": "-tGlPCfPDbRb"
   },
   "source": [
    "#### Random Forest Classifier model with the best parameters"
   ]
  },
  {
   "cell_type": "code",
   "execution_count": 42,
   "metadata": {
    "colab": {
     "base_uri": "https://localhost:8080/",
     "height": 51
    },
    "colab_type": "code",
    "id": "UacKDu0wDcHZ",
    "outputId": "2deb8e0f-2fbd-4532-820b-28b2289c2044"
   },
   "outputs": [
    {
     "name": "stdout",
     "output_type": "stream",
     "text": [
      "Score after Bagging on Random Forest Classifier on Train Set: 0.83\n",
      "Score after Bagging on Random Forest Classifier on Test Set: 0.78\n"
     ]
    }
   ],
   "source": [
    "rnd_clf = RandomForestClassifier(n_estimators=500, max_depth = 8, bootstrap=True, n_jobs=-1, random_state=0)\n",
    "rnd_clf.fit(X_train, y_train)\n",
    "\n",
    "y_pred_rf = rnd_clf.predict(X_test)\n",
    "\n",
    "print('Score after Bagging on Random Forest Classifier on Train Set: {:.2f}'.format(rnd_clf.score(X_train, y_train)))\n",
    "print('Score after Bagging on Random Forest Classifier on Test Set: {:.2f}'.format(rnd_clf.score(X_test, y_test)))"
   ]
  },
  {
   "cell_type": "markdown",
   "metadata": {
    "colab_type": "text",
    "id": "aVKgPZnXULLW"
   },
   "source": [
    "#### Accuracy of the Model"
   ]
  },
  {
   "cell_type": "code",
   "execution_count": 43,
   "metadata": {
    "colab": {
     "base_uri": "https://localhost:8080/",
     "height": 34
    },
    "colab_type": "code",
    "id": "x-cX_VNrJe_z",
    "outputId": "d5d670e4-71e0-4731-9f1f-411295dd8e44"
   },
   "outputs": [
    {
     "name": "stdout",
     "output_type": "stream",
     "text": [
      "Accuracy of the Classifier :  0.7829\n"
     ]
    }
   ],
   "source": [
    "print(\"Accuracy of the Classifier : \", accuracy_score(y_test, y_pred_rf).round(4))"
   ]
  },
  {
   "cell_type": "markdown",
   "metadata": {
    "colab_type": "text",
    "id": "oyLJI3iQJP0M"
   },
   "source": [
    "#### Confusion Matrix"
   ]
  },
  {
   "cell_type": "code",
   "execution_count": 44,
   "metadata": {
    "colab": {
     "base_uri": "https://localhost:8080/",
     "height": 119
    },
    "colab_type": "code",
    "id": "tn4Ve_DWJQeB",
    "outputId": "9c8d7801-c820-4bfd-f137-f088d35f835a"
   },
   "outputs": [
    {
     "name": "stdout",
     "output_type": "stream",
     "text": [
      "Confusion matrix for test:\n",
      "[[495  43]\n",
      " [152 208]]\n",
      "Confusion matrix for train:\n",
      "[[1148   66]\n",
      " [ 292  589]]\n"
     ]
    }
   ],
   "source": [
    "pred_test = rnd_clf.predict(X_test)\n",
    "pred_train = rnd_clf.predict(X_train)\n",
    "confusion_test = confusion_matrix(y_test, pred_test)\n",
    "confusion_train = confusion_matrix(y_train, pred_train)\n",
    "print(\"Confusion matrix for test:\\n{}\".format(confusion_test))\n",
    "print(\"Confusion matrix for train:\\n{}\".format(confusion_train))"
   ]
  },
  {
   "cell_type": "markdown",
   "metadata": {
    "colab_type": "text",
    "id": "s2oCS94sJVKh"
   },
   "source": [
    "#### Classification Report\n"
   ]
  },
  {
   "cell_type": "code",
   "execution_count": 45,
   "metadata": {
    "colab": {
     "base_uri": "https://localhost:8080/",
     "height": 170
    },
    "colab_type": "code",
    "id": "g7F0tCqmJVuI",
    "outputId": "86bfa149-2501-4419-a103-3043d2b2c72b"
   },
   "outputs": [
    {
     "name": "stdout",
     "output_type": "stream",
     "text": [
      "                 precision    recall  f1-score   support\n",
      "\n",
      "IsNotCanceled 0       0.77      0.92      0.84       538\n",
      "   IsCanceled 1       0.83      0.58      0.68       360\n",
      "\n",
      "       accuracy                           0.78       898\n",
      "      macro avg       0.80      0.75      0.76       898\n",
      "   weighted avg       0.79      0.78      0.77       898\n",
      "\n"
     ]
    }
   ],
   "source": [
    "print(classification_report(y_test, pred_test, target_names=[\"IsNotCanceled 0\", \"IsCanceled 1\"]))"
   ]
  },
  {
   "cell_type": "markdown",
   "metadata": {
    "colab_type": "text",
    "id": "Niz-EHLSJaBk"
   },
   "source": [
    "#### Showing Feature Importance "
   ]
  },
  {
   "cell_type": "code",
   "execution_count": 53,
   "metadata": {
    "colab": {
     "base_uri": "https://localhost:8080/",
     "height": 765
    },
    "colab_type": "code",
    "id": "rXmjC_IyJao2",
    "outputId": "c50456a4-ba2f-45cc-d5ac-e7ed200e1ee9"
   },
   "outputs": [
    {
     "data": {
      "text/plain": [
       "Deposit                   0.268016\n",
       "CountryPRT                0.135232\n",
       "LeadTime                  0.134598\n",
       "TotalOfSpecialRequests    0.107971\n",
       "PreviousCancellations     0.060329\n",
       "dtype: float64"
      ]
     },
     "execution_count": 53,
     "metadata": {},
     "output_type": "execute_result"
    }
   ],
   "source": [
    "feat_importances = pd.Series(rnd_clf.feature_importances_, index=X.columns)\n",
    "feat_importances.nlargest(5)"
   ]
  },
  {
   "cell_type": "markdown",
   "metadata": {
    "colab_type": "text",
    "id": "9qqymCvnVHmh"
   },
   "source": [
    "### Model 2 - Decision Tree Classifier"
   ]
  },
  {
   "cell_type": "markdown",
   "metadata": {
    "colab_type": "text",
    "id": "ZhNECjL0VLdF"
   },
   "source": [
    "### Best parameters for Bagging Classifier using Grid Search"
   ]
  },
  {
   "cell_type": "code",
   "execution_count": 54,
   "metadata": {
    "colab": {
     "base_uri": "https://localhost:8080/",
     "height": 51
    },
    "colab_type": "code",
    "id": "fMXi1Xo2VMGP",
    "outputId": "b9b2f153-bd23-468d-8c4a-0d4fe0f0a98d"
   },
   "outputs": [
    {
     "name": "stdout",
     "output_type": "stream",
     "text": [
      "Best parameters: {'max_samples': 400, 'n_estimators': 50}\n",
      "Best cross-validation score: 0.81\n"
     ]
    }
   ],
   "source": [
    "param_grid = {'n_estimators': [50,100,200,500],\n",
    "              'max_samples': [50,100,200,400]}\n",
    "\n",
    "grid_search = GridSearchCV(BaggingClassifier(random_state = 0), param_grid, cv=10, return_train_score=True, n_jobs= -1)\n",
    "grid_search.fit(X_train, y_train)\n",
    "print(\"Best parameters: {}\".format(grid_search.best_params_))\n",
    "print(\"Best cross-validation score: {:.2f}\".format(grid_search.best_score_))"
   ]
  },
  {
   "cell_type": "markdown",
   "metadata": {
    "colab_type": "text",
    "id": "pq3ojoXWWBEs"
   },
   "source": [
    "#### Best parameters for Decision Tree Classifier"
   ]
  },
  {
   "cell_type": "code",
   "execution_count": 55,
   "metadata": {
    "colab": {
     "base_uri": "https://localhost:8080/",
     "height": 51
    },
    "colab_type": "code",
    "id": "VRI8CV0-WBt1",
    "outputId": "475267b5-de30-4f43-a029-f94f96edb2b1"
   },
   "outputs": [
    {
     "name": "stdout",
     "output_type": "stream",
     "text": [
      "Best parameters: {'max_depth': 7}\n",
      "Best cross-validation score: 0.79\n"
     ]
    }
   ],
   "source": [
    "param_grid = {'max_depth': np.arange(1, 10)}\n",
    "grid_search = GridSearchCV(DecisionTreeClassifier(random_state=0), param_grid, cv=10, return_train_score=True, n_jobs= -1)\n",
    "grid_search.fit(X_train, y_train)\n",
    "print(\"Best parameters: {}\".format(grid_search.best_params_))\n",
    "print(\"Best cross-validation score: {:.2f}\".format(grid_search.best_score_))"
   ]
  },
  {
   "cell_type": "markdown",
   "metadata": {
    "colab_type": "text",
    "id": "qWxHtS2GWHN0"
   },
   "source": [
    "##### Rebuilding the model with best parameters"
   ]
  },
  {
   "cell_type": "code",
   "execution_count": 56,
   "metadata": {
    "colab": {
     "base_uri": "https://localhost:8080/",
     "height": 51
    },
    "colab_type": "code",
    "id": "05MSGhXHWH0j",
    "outputId": "dd60a877-c0cf-499d-d2ce-9a2d256c8c96"
   },
   "outputs": [
    {
     "name": "stdout",
     "output_type": "stream",
     "text": [
      "Score after Bagging on Decision Tree Classifier on Train Set: 0.83\n",
      "Score after Bagging on Decision Tree Classifier on Test Set: 0.79\n"
     ]
    }
   ],
   "source": [
    "dt_clf = DecisionTreeClassifier(max_depth = 7, random_state=0)\n",
    "bag_clf = BaggingClassifier(dt_clf, n_estimators=50, max_samples=400, bootstrap=True, n_jobs=-1, random_state=0)\n",
    "\n",
    "bag_clf.fit(X_train, y_train)\n",
    "y_pred = bag_clf.predict(X_test)\n",
    "\n",
    "print('Score after Bagging on Decision Tree Classifier on Train Set: {:.2f}'.format(bag_clf.score(X_train, y_train)))\n",
    "print('Score after Bagging on Decision Tree Classifier on Test Set: {:.2f}'.format(bag_clf.score(X_test, y_test)))"
   ]
  },
  {
   "cell_type": "markdown",
   "metadata": {
    "colab_type": "text",
    "id": "0fnFZmTHWUT_"
   },
   "source": [
    "###### Accuracy of the Model - Bagging classifier with Decision Tree Classifier"
   ]
  },
  {
   "cell_type": "code",
   "execution_count": 57,
   "metadata": {
    "colab": {
     "base_uri": "https://localhost:8080/",
     "height": 34
    },
    "colab_type": "code",
    "id": "VzZIqnh6WYzv",
    "outputId": "d7e04b5a-5c14-4421-cd60-bc115fe8529d"
   },
   "outputs": [
    {
     "name": "stdout",
     "output_type": "stream",
     "text": [
      "Accuracy of the Classifier :  0.7851\n"
     ]
    }
   ],
   "source": [
    "print(\"Accuracy of the Classifier : \", accuracy_score(y_test, y_pred).round(4))"
   ]
  },
  {
   "cell_type": "markdown",
   "metadata": {
    "colab_type": "text",
    "id": "gaKGcDFvWbBi"
   },
   "source": [
    "##### Confusion Matrix"
   ]
  },
  {
   "cell_type": "code",
   "execution_count": 58,
   "metadata": {
    "colab": {
     "base_uri": "https://localhost:8080/",
     "height": 119
    },
    "colab_type": "code",
    "id": "NZ1lXQ26Wc_-",
    "outputId": "4f021eb0-2806-4446-ddb3-2c0f9a2d6617"
   },
   "outputs": [
    {
     "name": "stdout",
     "output_type": "stream",
     "text": [
      "Confusion matrix for test:\n",
      "[[472  66]\n",
      " [127 233]]\n",
      "Confusion matrix for train:\n",
      "[[1102  112]\n",
      " [ 252  629]]\n"
     ]
    }
   ],
   "source": [
    "pred_test = bag_clf.predict(X_test)\n",
    "pred_train = bag_clf.predict(X_train)\n",
    "confusion_test = confusion_matrix(y_test, pred_test)\n",
    "confusion_train = confusion_matrix(y_train, pred_train)\n",
    "print(\"Confusion matrix for test:\\n{}\".format(confusion_test))\n",
    "print(\"Confusion matrix for train:\\n{}\".format(confusion_train))"
   ]
  },
  {
   "cell_type": "markdown",
   "metadata": {
    "colab_type": "text",
    "id": "U0Y-kDtuWgmr"
   },
   "source": [
    "##### Classification report for the model \n"
   ]
  },
  {
   "cell_type": "code",
   "execution_count": 59,
   "metadata": {
    "colab": {
     "base_uri": "https://localhost:8080/",
     "height": 170
    },
    "colab_type": "code",
    "id": "XHe4piyiWiYG",
    "outputId": "0db92cfa-ea4d-463f-fb4f-d8c07c1630f0"
   },
   "outputs": [
    {
     "name": "stdout",
     "output_type": "stream",
     "text": [
      "              precision    recall  f1-score   support\n",
      "\n",
      "IsCanceled 0       0.79      0.88      0.83       538\n",
      "IsCanceled 1       0.78      0.65      0.71       360\n",
      "\n",
      "    accuracy                           0.79       898\n",
      "   macro avg       0.78      0.76      0.77       898\n",
      "weighted avg       0.78      0.79      0.78       898\n",
      "\n"
     ]
    }
   ],
   "source": [
    "print(classification_report(y_test, pred_test, target_names=[\"IsCanceled 0\", \"IsCanceled 1\"]))"
   ]
  },
  {
   "cell_type": "markdown",
   "metadata": {
    "colab_type": "text",
    "id": "OyNAKS0IWuyt"
   },
   "source": [
    "# Pasting"
   ]
  },
  {
   "cell_type": "markdown",
   "metadata": {
    "colab_type": "text",
    "id": "dgGaN44VWyHc"
   },
   "source": [
    "### Model 1 - Decision Tree "
   ]
  },
  {
   "cell_type": "markdown",
   "metadata": {
    "colab_type": "text",
    "id": "c9EL8uGqW01i"
   },
   "source": [
    "#### Best parameter for Bagging Classifier"
   ]
  },
  {
   "cell_type": "code",
   "execution_count": 60,
   "metadata": {
    "colab": {
     "base_uri": "https://localhost:8080/",
     "height": 51
    },
    "colab_type": "code",
    "id": "dgOA3wp6WvT4",
    "outputId": "e9ad979b-1c50-4c75-bea4-0fda9a2386ff"
   },
   "outputs": [
    {
     "name": "stdout",
     "output_type": "stream",
     "text": [
      "Best parameters: {'max_samples': 400, 'n_estimators': 50}\n",
      "Best cross-validation score: 0.81\n"
     ]
    }
   ],
   "source": [
    "from sklearn.model_selection import GridSearchCV\n",
    "from sklearn.ensemble import BaggingClassifier\n",
    "param_grid = {'n_estimators': [50,100,200,500],\n",
    "              'max_samples': [50,100,200,400]}\n",
    "\n",
    "grid_search = GridSearchCV(BaggingClassifier(random_state = 0), param_grid, cv=10, return_train_score=True)\n",
    "grid_search.fit(X_train, y_train)\n",
    "print(\"Best parameters: {}\".format(grid_search.best_params_))\n",
    "print(\"Best cross-validation score: {:.2f}\".format(grid_search.best_score_))"
   ]
  },
  {
   "cell_type": "markdown",
   "metadata": {
    "colab_type": "text",
    "id": "0GY50lsQXOpC"
   },
   "source": [
    "### Best parameter for Decision Tree Classifier"
   ]
  },
  {
   "cell_type": "code",
   "execution_count": 61,
   "metadata": {
    "colab": {
     "base_uri": "https://localhost:8080/",
     "height": 102
    },
    "colab_type": "code",
    "id": "FfRWV2BwXPWM",
    "outputId": "f4fa0222-6c8e-41c8-9590-1691efc1b4b3"
   },
   "outputs": [
    {
     "name": "stdout",
     "output_type": "stream",
     "text": [
      "Fitting 10 folds for each of 9 candidates, totalling 90 fits\n"
     ]
    },
    {
     "name": "stderr",
     "output_type": "stream",
     "text": [
      "[Parallel(n_jobs=-1)]: Using backend LokyBackend with 8 concurrent workers.\n",
      "[Parallel(n_jobs=-1)]: Done  90 out of  90 | elapsed:    0.1s finished\n"
     ]
    },
    {
     "name": "stdout",
     "output_type": "stream",
     "text": [
      "Best parameters: {'max_depth': 7}\n",
      "Best cross-validation score: 0.79\n"
     ]
    }
   ],
   "source": [
    "from sklearn.tree import DecisionTreeClassifier\n",
    "from sklearn.model_selection import GridSearchCV\n",
    "param_grid = {'max_depth': np.arange(1, 10)}\n",
    "grid_search = GridSearchCV(DecisionTreeClassifier(random_state=0), param_grid, cv=10, return_train_score=True, verbose=True, n_jobs= -1)\n",
    "grid_search.fit(X_train, y_train)\n",
    "print(\"Best parameters: {}\".format(grid_search.best_params_))\n",
    "print(\"Best cross-validation score: {:.2f}\".format(grid_search.best_score_))"
   ]
  },
  {
   "cell_type": "markdown",
   "metadata": {
    "colab_type": "text",
    "id": "n0ljhuXKXYf6"
   },
   "source": [
    "#### Rebuilding the model with best parameters\n"
   ]
  },
  {
   "cell_type": "code",
   "execution_count": 62,
   "metadata": {
    "colab": {
     "base_uri": "https://localhost:8080/",
     "height": 51
    },
    "colab_type": "code",
    "id": "u3TtkmaFXZPp",
    "outputId": "882e5c77-ddb2-4732-acaa-d3d81843cb46"
   },
   "outputs": [
    {
     "name": "stdout",
     "output_type": "stream",
     "text": [
      "Score after Pasting on Decision Tree Classifier on Train Set: 0.83\n",
      "Score after Pasting on Decision Tree Classifier on Test Set: 0.79\n"
     ]
    }
   ],
   "source": [
    "dt_clf = DecisionTreeClassifier(max_depth = 7, random_state=0)\n",
    "past_clf = BaggingClassifier(dt_clf, n_estimators=50, max_samples=400, bootstrap=False, n_jobs=-1, random_state=0)\n",
    "\n",
    "past_clf.fit(X_train, y_train)\n",
    "y_pred = past_clf.predict(X_test)\n",
    "\n",
    "print('Score after Pasting on Decision Tree Classifier on Train Set: {:.2f}'.format(past_clf.score(X_train, y_train)))\n",
    "print('Score after Pasting on Decision Tree Classifier on Test Set: {:.2f}'.format(past_clf.score(X_test, y_test)))"
   ]
  },
  {
   "cell_type": "markdown",
   "metadata": {
    "colab_type": "text",
    "id": "l0dJ1PWWXzat"
   },
   "source": [
    "#### Accuracy of the model\n"
   ]
  },
  {
   "cell_type": "code",
   "execution_count": 63,
   "metadata": {
    "colab": {
     "base_uri": "https://localhost:8080/",
     "height": 34
    },
    "colab_type": "code",
    "id": "lf7IHoBNX0RC",
    "outputId": "89016091-04e4-4ad5-f13a-a090f59fe505"
   },
   "outputs": [
    {
     "name": "stdout",
     "output_type": "stream",
     "text": [
      "Accuracy  of the model :  0.7862\n"
     ]
    }
   ],
   "source": [
    "print(\"Accuracy  of the model : \", accuracy_score(y_test, y_pred).round(4))"
   ]
  },
  {
   "cell_type": "markdown",
   "metadata": {
    "colab_type": "text",
    "id": "ou674eNqX4J2"
   },
   "source": [
    "#### Confusion Matrix"
   ]
  },
  {
   "cell_type": "code",
   "execution_count": 64,
   "metadata": {
    "colab": {
     "base_uri": "https://localhost:8080/",
     "height": 119
    },
    "colab_type": "code",
    "id": "IOiaeRTbX444",
    "outputId": "11c17ba9-cf65-46db-c01a-b06e6aab0394"
   },
   "outputs": [
    {
     "name": "stdout",
     "output_type": "stream",
     "text": [
      "Confusion matrix for test:\n",
      "[[459  79]\n",
      " [113 247]]\n",
      "Confusion matrix for train:\n",
      "[[1079  135]\n",
      " [ 229  652]]\n"
     ]
    }
   ],
   "source": [
    "pred_test = past_clf.predict(X_test)\n",
    "pred_train = past_clf.predict(X_train)\n",
    "confusion_test = confusion_matrix(y_test, pred_test)\n",
    "confusion_train = confusion_matrix(y_train, pred_train)\n",
    "print(\"Confusion matrix for test:\\n{}\".format(confusion_test))\n",
    "print(\"Confusion matrix for train:\\n{}\".format(confusion_train))"
   ]
  },
  {
   "cell_type": "markdown",
   "metadata": {
    "colab_type": "text",
    "id": "4qxyzuJpYBUx"
   },
   "source": [
    "#### Classification Report"
   ]
  },
  {
   "cell_type": "code",
   "execution_count": 65,
   "metadata": {
    "colab": {
     "base_uri": "https://localhost:8080/",
     "height": 170
    },
    "colab_type": "code",
    "id": "I5zbLHn1YB3g",
    "outputId": "86f50520-3c83-4f48-842e-cb49d8a97487"
   },
   "outputs": [
    {
     "name": "stdout",
     "output_type": "stream",
     "text": [
      "              precision    recall  f1-score   support\n",
      "\n",
      "IsCanceled 0       0.80      0.85      0.83       538\n",
      "IsCanceled 1       0.76      0.69      0.72       360\n",
      "\n",
      "    accuracy                           0.79       898\n",
      "   macro avg       0.78      0.77      0.77       898\n",
      "weighted avg       0.78      0.79      0.78       898\n",
      "\n"
     ]
    }
   ],
   "source": [
    "print(classification_report(y_test, pred_test, target_names=[\"IsCanceled 0\", \"IsCanceled 1\"]))"
   ]
  },
  {
   "cell_type": "markdown",
   "metadata": {
    "colab_type": "text",
    "id": "WqGyj0ExYGcz"
   },
   "source": [
    "## Model 2 - Random Forest\n"
   ]
  },
  {
   "cell_type": "markdown",
   "metadata": {
    "colab_type": "text",
    "id": "nlVfYO17YI5y"
   },
   "source": [
    "#### Best parameter for Random forest classifier"
   ]
  },
  {
   "cell_type": "code",
   "execution_count": 66,
   "metadata": {
    "colab": {
     "base_uri": "https://localhost:8080/",
     "height": 136
    },
    "colab_type": "code",
    "id": "FkWwcclqYHG6",
    "outputId": "0a3e1ef8-1eea-427c-90fa-115f031a7b5f"
   },
   "outputs": [
    {
     "name": "stdout",
     "output_type": "stream",
     "text": [
      "Fitting 10 folds for each of 36 candidates, totalling 360 fits\n"
     ]
    },
    {
     "name": "stderr",
     "output_type": "stream",
     "text": [
      "[Parallel(n_jobs=-1)]: Using backend LokyBackend with 8 concurrent workers.\n",
      "[Parallel(n_jobs=-1)]: Done  88 tasks      | elapsed:   10.2s\n",
      "[Parallel(n_jobs=-1)]: Done 274 tasks      | elapsed:   39.9s\n",
      "[Parallel(n_jobs=-1)]: Done 360 out of 360 | elapsed:   55.0s finished\n"
     ]
    },
    {
     "name": "stdout",
     "output_type": "stream",
     "text": [
      "Best parameters: {'max_depth': 8, 'n_estimators': 500}\n",
      "Best cross-validation score: 0.81\n"
     ]
    }
   ],
   "source": [
    "param_grid = {'n_estimators': [50,100,200,500],\n",
    "              'max_depth': np.arange(1, 10)}\n",
    "\n",
    "grid_search = GridSearchCV(RandomForestClassifier(random_state=0), param_grid, cv=10, return_train_score=True, verbose=True, n_jobs= -1)\n",
    "grid_search.fit(X_train, y_train)\n",
    "print(\"Best parameters: {}\".format(grid_search.best_params_))\n",
    "print(\"Best cross-validation score: {:.2f}\".format(grid_search.best_score_))"
   ]
  },
  {
   "cell_type": "markdown",
   "metadata": {
    "colab_type": "text",
    "id": "EHt8eOEmYvo9"
   },
   "source": [
    "#### Building the RandomForest Classifier model with the best parameters\n"
   ]
  },
  {
   "cell_type": "code",
   "execution_count": 67,
   "metadata": {
    "colab": {
     "base_uri": "https://localhost:8080/",
     "height": 51
    },
    "colab_type": "code",
    "id": "3cQ4ymbmYwSo",
    "outputId": "f0a60066-bb79-426a-8a2b-fcb6500a26bb"
   },
   "outputs": [
    {
     "name": "stdout",
     "output_type": "stream",
     "text": [
      "Score after Pasting on Random Forest Classifier on Train Set: 0.81\n",
      "Score after Pasting on Random Forest Classifier on Test Set: 0.77\n"
     ]
    }
   ],
   "source": [
    "rnd_clf = RandomForestClassifier(n_estimators=500, max_depth = 8, max_leaf_nodes=16, bootstrap=False, n_jobs=-1, random_state=0)\n",
    "rnd_clf.fit(X_train, y_train)\n",
    "\n",
    "y_pred_rf = rnd_clf.predict(X_test)\n",
    "\n",
    "print('Score after Pasting on Random Forest Classifier on Train Set: {:.2f}'.format(rnd_clf.score(X_train, y_train)))\n",
    "print('Score after Pasting on Random Forest Classifier on Test Set: {:.2f}'.format(rnd_clf.score(X_test, y_test)))"
   ]
  },
  {
   "cell_type": "markdown",
   "metadata": {
    "colab_type": "text",
    "id": "x-qzpvr9YzR_"
   },
   "source": [
    "#### Accuracy\n"
   ]
  },
  {
   "cell_type": "code",
   "execution_count": 68,
   "metadata": {
    "colab": {
     "base_uri": "https://localhost:8080/",
     "height": 34
    },
    "colab_type": "code",
    "id": "aSguxHDoYz6x",
    "outputId": "99301a04-9616-4353-df84-67acaae9e9db"
   },
   "outputs": [
    {
     "name": "stdout",
     "output_type": "stream",
     "text": [
      "Accuracy of the model :  0.7862\n"
     ]
    }
   ],
   "source": [
    "print(\"Accuracy of the model : \", accuracy_score(y_test, y_pred).round(4))"
   ]
  },
  {
   "cell_type": "markdown",
   "metadata": {
    "colab_type": "text",
    "id": "tOBYTE00Y3e4"
   },
   "source": [
    "#### Confusion Matrix"
   ]
  },
  {
   "cell_type": "code",
   "execution_count": 69,
   "metadata": {
    "colab": {
     "base_uri": "https://localhost:8080/",
     "height": 119
    },
    "colab_type": "code",
    "id": "ZX_17UYrY4J_",
    "outputId": "8d267f89-9e3a-4a81-e670-96c6bbece717"
   },
   "outputs": [
    {
     "name": "stdout",
     "output_type": "stream",
     "text": [
      "Confusion matrix for test:\n",
      "[[509  29]\n",
      " [175 185]]\n",
      "Confusion matrix for train:\n",
      "[[1184   30]\n",
      " [ 378  503]]\n"
     ]
    }
   ],
   "source": [
    "pred_test = rnd_clf.predict(X_test)\n",
    "pred_train = rnd_clf.predict(X_train)\n",
    "confusion_test = confusion_matrix(y_test, pred_test)\n",
    "confusion_train = confusion_matrix(y_train, pred_train)\n",
    "print(\"Confusion matrix for test:\\n{}\".format(confusion_test))\n",
    "print(\"Confusion matrix for train:\\n{}\".format(confusion_train))"
   ]
  },
  {
   "cell_type": "markdown",
   "metadata": {
    "colab_type": "text",
    "id": "f_I1FgrDY7Q3"
   },
   "source": [
    "##### Classification report"
   ]
  },
  {
   "cell_type": "code",
   "execution_count": 70,
   "metadata": {
    "colab": {
     "base_uri": "https://localhost:8080/",
     "height": 170
    },
    "colab_type": "code",
    "id": "8BUOCPluY78j",
    "outputId": "8b3ecaaf-775d-4dce-98a7-b22d4a8dc918"
   },
   "outputs": [
    {
     "name": "stdout",
     "output_type": "stream",
     "text": [
      "              precision    recall  f1-score   support\n",
      "\n",
      "IsCanceled 0       0.74      0.95      0.83       538\n",
      "Iscanceled 1       0.86      0.51      0.64       360\n",
      "\n",
      "    accuracy                           0.77       898\n",
      "   macro avg       0.80      0.73      0.74       898\n",
      "weighted avg       0.79      0.77      0.76       898\n",
      "\n"
     ]
    }
   ],
   "source": [
    "print(classification_report(y_test, pred_test, target_names=[\"IsCanceled 0\", \"Iscanceled 1\"]))"
   ]
  },
  {
   "cell_type": "markdown",
   "metadata": {
    "colab_type": "text",
    "id": "HK6jcIUmY-7l"
   },
   "source": [
    "#### Showing feature importance \n",
    "\n",
    "\n",
    "\n"
   ]
  },
  {
   "cell_type": "code",
   "execution_count": 71,
   "metadata": {
    "colab": {
     "base_uri": "https://localhost:8080/",
     "height": 765
    },
    "colab_type": "code",
    "id": "_UGktZoiY_ee",
    "outputId": "cabcadc1-1476-4066-a55b-1f1117360f6f"
   },
   "outputs": [
    {
     "data": {
      "text/plain": [
       "Deposit                   0.314859\n",
       "CountryPRT                0.151019\n",
       "TotalOfSpecialRequests    0.117947\n",
       "LeadTime                  0.108807\n",
       "PreviousCancellations     0.061835\n",
       "dtype: float64"
      ]
     },
     "execution_count": 71,
     "metadata": {},
     "output_type": "execute_result"
    }
   ],
   "source": [
    "feat_importances = pd.Series(rnd_clf.feature_importances_, index=X.columns)\n",
    "feat_importances.nlargest(5)"
   ]
  },
  {
   "cell_type": "markdown",
   "metadata": {
    "colab_type": "text",
    "id": "Qpa8GjHgbdJo"
   },
   "source": [
    "## AdaBoost Boosting"
   ]
  },
  {
   "cell_type": "markdown",
   "metadata": {
    "colab_type": "text",
    "id": "xYIHDrbTbd6B"
   },
   "source": [
    "### Model 1 - Logistic Regression with AdaBoost\n"
   ]
  },
  {
   "cell_type": "markdown",
   "metadata": {
    "colab_type": "text",
    "id": "-hBjYQQ0bn7o"
   },
   "source": [
    "#### Grid search to find best parameters for Adaboost boosting for logistic regression "
   ]
  },
  {
   "cell_type": "code",
   "execution_count": 72,
   "metadata": {
    "colab": {
     "base_uri": "https://localhost:8080/",
     "height": 119
    },
    "colab_type": "code",
    "id": "zpXJJdIKbop3",
    "outputId": "947b7c44-cef0-44d0-cbe3-5b6b43936237"
   },
   "outputs": [
    {
     "name": "stdout",
     "output_type": "stream",
     "text": [
      "Fitting 10 folds for each of 16 candidates, totalling 160 fits\n"
     ]
    },
    {
     "name": "stderr",
     "output_type": "stream",
     "text": [
      "[Parallel(n_jobs=-1)]: Using backend LokyBackend with 8 concurrent workers.\n",
      "[Parallel(n_jobs=-1)]: Done  34 tasks      | elapsed:   11.1s\n",
      "[Parallel(n_jobs=-1)]: Done 160 out of 160 | elapsed:   54.3s finished\n"
     ]
    },
    {
     "name": "stdout",
     "output_type": "stream",
     "text": [
      "Best parameters: {'learning_rate': 1, 'n_estimators': 200}\n",
      "Best cross-validation score: 0.78\n"
     ]
    }
   ],
   "source": [
    "param_grid = {'n_estimators': [50,100,200,500],\n",
    "              'learning_rate': [.01, .05, .1, 1]}\n",
    "\n",
    "grid_search_logit = GridSearchCV(AdaBoostClassifier(LogisticRegression(),algorithm=\"SAMME.R\",random_state = 0), param_grid, cv=10, return_train_score=True, verbose=True, n_jobs= -1)\n",
    "grid_search_logit.fit(X_train, y_train)\n",
    "print(\"Best parameters: {}\".format(grid_search_logit.best_params_))\n",
    "print(\"Best cross-validation score: {:.2f}\".format(grid_search_logit.best_score_))"
   ]
  },
  {
   "cell_type": "markdown",
   "metadata": {
    "colab_type": "text",
    "id": "HxHfVGXUcZT8"
   },
   "source": [
    "#### Applying logistic Regression on the data"
   ]
  },
  {
   "cell_type": "code",
   "execution_count": 73,
   "metadata": {
    "colab": {
     "base_uri": "https://localhost:8080/",
     "height": 34
    },
    "colab_type": "code",
    "id": "-tNkdGONcZ_A",
    "outputId": "88a16c11-ff3c-4532-ec9c-fb2df5d377e7"
   },
   "outputs": [
    {
     "name": "stdout",
     "output_type": "stream",
     "text": [
      "Accuracy for logistic regression model : 0.7706\n"
     ]
    }
   ],
   "source": [
    "lclf = LogisticRegression()\n",
    "lclf.fit(X_train,y_train)\n",
    "y_pred = lclf.predict(X_test)\n",
    "from  sklearn.metrics import accuracy_score\n",
    "print(\"Accuracy for logistic regression model :\", accuracy_score(y_test, y_pred).round(4))"
   ]
  },
  {
   "cell_type": "markdown",
   "metadata": {
    "colab_type": "text",
    "id": "WMyOh9TBce-V"
   },
   "source": [
    "#### Applying adaboosting on Logistic Regression\n",
    "\n",
    "---\n",
    "\n"
   ]
  },
  {
   "cell_type": "code",
   "execution_count": 74,
   "metadata": {
    "colab": {
     "base_uri": "https://localhost:8080/",
     "height": 34
    },
    "colab_type": "code",
    "id": "1-T4aJSDcxG0",
    "outputId": "40cedb5a-de58-4cd4-d169-5537da5b6b4d"
   },
   "outputs": [
    {
     "name": "stdout",
     "output_type": "stream",
     "text": [
      "Accuracy after applying adaboost on logistic regression model: 0.7606\n"
     ]
    }
   ],
   "source": [
    "ada_clf1 = AdaBoostClassifier(LogisticRegression(), n_estimators= 200, algorithm=\"SAMME.R\", learning_rate=1, random_state=0)\n",
    "ada_clf1.fit(X_train, y_train)\n",
    "y_pred = ada_clf1.predict(X_test)\n",
    "from  sklearn.metrics import accuracy_score\n",
    "print(\"Accuracy after applying adaboost on logistic regression model:\",accuracy_score(y_test, y_pred).round(4))"
   ]
  },
  {
   "cell_type": "markdown",
   "metadata": {
    "colab_type": "text",
    "id": "T6OKskbVc42V"
   },
   "source": [
    "### Model 2 - Decision Tree Classifier with AdaBoosting"
   ]
  },
  {
   "cell_type": "markdown",
   "metadata": {
    "colab_type": "text",
    "id": "R4hKKeSbc-hr"
   },
   "source": [
    "##### Finding best parameters for adaboost boosting for Decision Tree Classifier"
   ]
  },
  {
   "cell_type": "code",
   "execution_count": 75,
   "metadata": {
    "colab": {
     "base_uri": "https://localhost:8080/",
     "height": 119
    },
    "colab_type": "code",
    "id": "8bVwOXWsc5-9",
    "outputId": "03f33167-9dd1-4711-ba8b-8ae4908dc593"
   },
   "outputs": [
    {
     "name": "stdout",
     "output_type": "stream",
     "text": [
      "Fitting 10 folds for each of 16 candidates, totalling 160 fits\n"
     ]
    },
    {
     "name": "stderr",
     "output_type": "stream",
     "text": [
      "[Parallel(n_jobs=-1)]: Using backend LokyBackend with 8 concurrent workers.\n",
      "[Parallel(n_jobs=-1)]: Done  34 tasks      | elapsed:   22.0s\n",
      "[Parallel(n_jobs=-1)]: Done 160 out of 160 | elapsed:  1.4min finished\n"
     ]
    },
    {
     "name": "stdout",
     "output_type": "stream",
     "text": [
      "Best parameters: {'learning_rate': 0.01, 'n_estimators': 50}\n",
      "Best cross-validation score: 0.77\n"
     ]
    }
   ],
   "source": [
    "param_grid = {'n_estimators': [50,100,200,500],\n",
    "              'learning_rate': [.01, .05, .1, 1]}\n",
    "\n",
    "grid_search_ada = GridSearchCV(AdaBoostClassifier(DecisionTreeClassifier(),random_state = 0), param_grid, cv=10, return_train_score=True, verbose=True, n_jobs=-1)\n",
    "grid_search_ada.fit(X_train, y_train)\n",
    "print(\"Best parameters: {}\".format(grid_search_ada.best_params_))\n",
    "print(\"Best cross-validation score: {:.2f}\".format(grid_search_ada.best_score_))"
   ]
  },
  {
   "cell_type": "markdown",
   "metadata": {
    "colab_type": "text",
    "id": "iSQJ3SfYdY-V"
   },
   "source": [
    "###### Decision Tree on the dataset before adaboost boosting\n"
   ]
  },
  {
   "cell_type": "code",
   "execution_count": 76,
   "metadata": {
    "colab": {
     "base_uri": "https://localhost:8080/",
     "height": 34
    },
    "colab_type": "code",
    "id": "Shn5aZ6Cdb_c",
    "outputId": "72e7d1a3-04b0-48d3-ba5d-a095e9f29b79"
   },
   "outputs": [
    {
     "name": "stdout",
     "output_type": "stream",
     "text": [
      "Accuracy of the decision tree classifier  0.7339\n"
     ]
    }
   ],
   "source": [
    "dt_clf = DecisionTreeClassifier()\n",
    "dt_clf.fit(X_train, y_train)\n",
    "y_pred = dt_clf.predict(X_test)\n",
    "\n",
    "print(\"Accuracy of the decision tree classifier \", accuracy_score(y_test, y_pred).round(4))"
   ]
  },
  {
   "cell_type": "markdown",
   "metadata": {
    "colab_type": "text",
    "id": "fUvoWox7dez_"
   },
   "source": [
    "###### Applying AdaBoost Boosting on the decision tree classifier\n"
   ]
  },
  {
   "cell_type": "code",
   "execution_count": 77,
   "metadata": {
    "colab": {
     "base_uri": "https://localhost:8080/",
     "height": 34
    },
    "colab_type": "code",
    "id": "k-QG-difdfZx",
    "outputId": "4c78f04b-2aa7-4c44-e501-49d6a6749d85"
   },
   "outputs": [
    {
     "name": "stdout",
     "output_type": "stream",
     "text": [
      "Accuracy of the decision tree classifier after adaboost boosting 0.7661\n"
     ]
    }
   ],
   "source": [
    "ada_clf = AdaBoostClassifier(DecisionTreeClassifier(), n_estimators=50, algorithm=\"SAMME.R\", learning_rate=0.01, random_state=0)\n",
    "ada_clf.fit(X_train, y_train)\n",
    "y_pred = ada_clf.predict(X_test)\n",
    "from  sklearn.metrics import accuracy_score\n",
    "print(\"Accuracy of the decision tree classifier after adaboost boosting\",accuracy_score(y_test, y_pred).round(4))"
   ]
  },
  {
   "cell_type": "markdown",
   "metadata": {
    "colab_type": "text",
    "id": "IiI-Egd1dkS_"
   },
   "source": [
    "<b>Observation - We can see that adaboost boosting has improved the accuracy of the decision tree classifer.<b>"
   ]
  },
  {
   "cell_type": "markdown",
   "metadata": {
    "colab_type": "text",
    "id": "YMETVfCAdvWb"
   },
   "source": [
    "## Gradient Boosting\n"
   ]
  },
  {
   "cell_type": "markdown",
   "metadata": {
    "colab_type": "text",
    "id": "px_BKT6pd0at"
   },
   "source": [
    "#### Finding best parameters for gradient boosting"
   ]
  },
  {
   "cell_type": "code",
   "execution_count": 78,
   "metadata": {
    "colab": {},
    "colab_type": "code",
    "id": "R-QXIJh6dyUg"
   },
   "outputs": [],
   "source": [
    "from sklearn.model_selection import GridSearchCV\n",
    "from sklearn.ensemble import GradientBoostingClassifier"
   ]
  },
  {
   "cell_type": "code",
   "execution_count": 79,
   "metadata": {
    "colab": {
     "base_uri": "https://localhost:8080/",
     "height": 187
    },
    "colab_type": "code",
    "id": "PMywGem3d4Dl",
    "outputId": "99f546d6-3ee6-4707-a00e-01368e4436a2"
   },
   "outputs": [
    {
     "name": "stdout",
     "output_type": "stream",
     "text": [
      "Fitting 10 folds for each of 144 candidates, totalling 1440 fits\n"
     ]
    },
    {
     "name": "stderr",
     "output_type": "stream",
     "text": [
      "[Parallel(n_jobs=-1)]: Using backend LokyBackend with 8 concurrent workers.\n",
      "[Parallel(n_jobs=-1)]: Done 124 tasks      | elapsed:   12.5s\n",
      "[Parallel(n_jobs=-1)]: Done 336 tasks      | elapsed:  1.6min\n",
      "[Parallel(n_jobs=-1)]: Done 586 tasks      | elapsed:  2.6min\n",
      "[Parallel(n_jobs=-1)]: Done 936 tasks      | elapsed:  4.9min\n",
      "[Parallel(n_jobs=-1)]: Done 1386 tasks      | elapsed:  8.4min\n",
      "[Parallel(n_jobs=-1)]: Done 1440 out of 1440 | elapsed:  9.0min finished\n"
     ]
    },
    {
     "name": "stdout",
     "output_type": "stream",
     "text": [
      "Best parameters: {'learning_rate': 0.05, 'max_depth': 6, 'n_estimators': 50}\n",
      "Best cross-validation score: 0.81\n"
     ]
    }
   ],
   "source": [
    "param_grid = {'n_estimators': [50,100,200,500],\n",
    "              'learning_rate': [.01, .05, .1, 1], 'max_depth': np.arange(1, 10)}\n",
    "\n",
    "grid_search = GridSearchCV(GradientBoostingClassifier(random_state = 0), param_grid, cv=10, return_train_score=True, n_jobs=-1, verbose=True)\n",
    "grid_search.fit(X_train, y_train)\n",
    "print(\"Best parameters: {}\".format(grid_search.best_params_))\n",
    "print(\"Best cross-validation score: {:.2f}\".format(grid_search.best_score_))"
   ]
  },
  {
   "cell_type": "markdown",
   "metadata": {
    "colab_type": "text",
    "id": "36npVUuchy-x"
   },
   "source": [
    "#### Building the gradient boosting model with best parameters"
   ]
  },
  {
   "cell_type": "code",
   "execution_count": 80,
   "metadata": {
    "colab": {},
    "colab_type": "code",
    "id": "2VV8r7Fkh1IE"
   },
   "outputs": [],
   "source": [
    "gbrt = GradientBoostingClassifier(random_state=0, learning_rate=0.05, max_depth = 6, n_estimators=50)\n",
    "gbrt.fit(X_train, y_train)\n",
    "y_pred = gbrt.predict(X_test)"
   ]
  },
  {
   "cell_type": "markdown",
   "metadata": {
    "colab_type": "text",
    "id": "JSZ1rDRdh5V8"
   },
   "source": [
    "#### Accuracy of the Model"
   ]
  },
  {
   "cell_type": "code",
   "execution_count": 81,
   "metadata": {
    "colab": {
     "base_uri": "https://localhost:8080/",
     "height": 34
    },
    "colab_type": "code",
    "id": "ZME115L_h6CC",
    "outputId": "05a9e744-50e2-4bd9-fad1-09d6a6cafcef"
   },
   "outputs": [
    {
     "name": "stdout",
     "output_type": "stream",
     "text": [
      "Accuracy of the model after gradient boosting 0.7862\n"
     ]
    }
   ],
   "source": [
    "print(\"Accuracy of the model after gradient boosting\",accuracy_score(y_test, y_pred).round(4))"
   ]
  },
  {
   "cell_type": "markdown",
   "metadata": {
    "colab_type": "text",
    "id": "ADnXneTfiIW2"
   },
   "source": [
    "#### Confusion matrix"
   ]
  },
  {
   "cell_type": "code",
   "execution_count": 82,
   "metadata": {
    "colab": {
     "base_uri": "https://localhost:8080/",
     "height": 119
    },
    "colab_type": "code",
    "id": "Beh83uk1iI3n",
    "outputId": "15550d27-0eb8-40e4-c1c1-3194cbb5d896"
   },
   "outputs": [
    {
     "name": "stdout",
     "output_type": "stream",
     "text": [
      "Confusion matrix for test:\n",
      "[[467  71]\n",
      " [121 239]]\n",
      "Confusion matrix for train:\n",
      "[[1099  115]\n",
      " [ 216  665]]\n"
     ]
    }
   ],
   "source": [
    "pred_test = gbrt.predict(X_test)\n",
    "pred_train = gbrt.predict(X_train)\n",
    "confusion_test = confusion_matrix(y_test, pred_test)\n",
    "confusion_train = confusion_matrix(y_train, pred_train)\n",
    "print(\"Confusion matrix for test:\\n{}\".format(confusion_test))\n",
    "print(\"Confusion matrix for train:\\n{}\".format(confusion_train))"
   ]
  },
  {
   "cell_type": "markdown",
   "metadata": {
    "colab_type": "text",
    "id": "dXzbJZ4hiO-p"
   },
   "source": [
    "## PCA (Principal Component Analysis) - Dimensionality Reduction Technique"
   ]
  },
  {
   "cell_type": "code",
   "execution_count": 83,
   "metadata": {
    "colab": {},
    "colab_type": "code",
    "id": "ji01O-oSiRck"
   },
   "outputs": [],
   "source": [
    "from sklearn.decomposition import PCA\n",
    "pca_classification = PCA(n_components = .95, random_state = 0)\n",
    "X_train_class = pca_classification.fit_transform(X_train)\n",
    "X_test_class = pca_classification.transform(X_test)"
   ]
  },
  {
   "cell_type": "markdown",
   "metadata": {
    "colab_type": "text",
    "id": "wEXFMV1qiPoM"
   },
   "source": [
    "#### Number of components after PCA"
   ]
  },
  {
   "cell_type": "code",
   "execution_count": 84,
   "metadata": {
    "colab": {
     "base_uri": "https://localhost:8080/",
     "height": 34
    },
    "colab_type": "code",
    "id": "8Mb4cz8HiUWy",
    "outputId": "039b6579-2fc1-447b-b591-3789970f71e0"
   },
   "outputs": [
    {
     "data": {
      "text/plain": [
       "14"
      ]
     },
     "execution_count": 84,
     "metadata": {},
     "output_type": "execute_result"
    }
   ],
   "source": [
    "pca_classification.n_components_"
   ]
  },
  {
   "cell_type": "markdown",
   "metadata": {
    "colab_type": "text",
    "id": "6PzE8shxiZpF"
   },
   "source": [
    "### 1. Logistic Regression with Principal Component\n"
   ]
  },
  {
   "cell_type": "markdown",
   "metadata": {
    "colab_type": "text",
    "id": "Mp0S9Kh2icqU"
   },
   "source": [
    "#### Finding best parameters for the model"
   ]
  },
  {
   "cell_type": "code",
   "execution_count": 85,
   "metadata": {
    "colab": {
     "base_uri": "https://localhost:8080/",
     "height": 51
    },
    "colab_type": "code",
    "id": "kdTs51Enia_J",
    "outputId": "ad5fd8f1-2306-4398-80f7-7e56a2ec0aaf"
   },
   "outputs": [
    {
     "name": "stdout",
     "output_type": "stream",
     "text": [
      "Best parameters: {'C': 10, 'penalty': 'l1'}\n",
      "Best cross-validation score: 0.785203\n"
     ]
    }
   ],
   "source": [
    "param_grid_svm = {'C': [0.001, 0.01, 0.1, 1, 10, 100], 'penalty':['l1','l2']}\n",
    "grid_search = GridSearchCV(LogisticRegression(), param_grid_svm, cv=5, return_train_score=True)\n",
    "grid_search.fit(X_train_class, y_train)\n",
    "print(\"Best parameters: {}\".format(grid_search.best_params_))\n",
    "print(\"Best cross-validation score: {:.6f}\".format(grid_search.best_score_))"
   ]
  },
  {
   "cell_type": "markdown",
   "metadata": {
    "colab_type": "text",
    "id": "TgNgBekjigkE"
   },
   "source": [
    "#### Building the model with best parameters"
   ]
  },
  {
   "cell_type": "code",
   "execution_count": 86,
   "metadata": {
    "colab": {
     "base_uri": "https://localhost:8080/",
     "height": 51
    },
    "colab_type": "code",
    "id": "RFtkh_8mihAx",
    "outputId": "fb11c2e0-e108-4ab6-d448-bff2f02bfc3e"
   },
   "outputs": [
    {
     "name": "stdout",
     "output_type": "stream",
     "text": [
      "Train score on best parameters for Logistic Regression model 0.789\n",
      "Test score on best parameters for Logistic Regression model 0.761\n"
     ]
    }
   ],
   "source": [
    "lg = LogisticRegression(C=10,penalty='l1').fit(X_train_class, y_train)\n",
    "print('Train score on best parameters for Logistic Regression model {:.3f}'.format(lg.score(X_train_class,y_train)))\n",
    "print('Test score on best parameters for Logistic Regression model {:.3f}'.format(lg.score(X_test_class,y_test)))"
   ]
  },
  {
   "cell_type": "markdown",
   "metadata": {
    "colab_type": "text",
    "id": "TNb1WY0ejrDn"
   },
   "source": [
    "#### Confusion Matrix"
   ]
  },
  {
   "cell_type": "code",
   "execution_count": 87,
   "metadata": {
    "colab": {
     "base_uri": "https://localhost:8080/",
     "height": 119
    },
    "colab_type": "code",
    "id": "9arTIS6wjrsd",
    "outputId": "3587d290-2641-4e86-9f46-bfde22929283"
   },
   "outputs": [
    {
     "name": "stdout",
     "output_type": "stream",
     "text": [
      "Confusion matrix for test:\n",
      "[[462  76]\n",
      " [139 221]]\n",
      "Confusion matrix for train:\n",
      "[[1090  124]\n",
      " [ 319  562]]\n"
     ]
    }
   ],
   "source": [
    "pred_logreg_test = lg.predict(X_test_class)\n",
    "pred_logreg_train = lg.predict(X_train_class)\n",
    "confusion_test = confusion_matrix(y_test, pred_logreg_test)\n",
    "confusion_train = confusion_matrix(y_train, pred_logreg_train)\n",
    "print(\"Confusion matrix for test:\\n{}\".format(confusion_test))\n",
    "print(\"Confusion matrix for train:\\n{}\".format(confusion_train))"
   ]
  },
  {
   "cell_type": "markdown",
   "metadata": {
    "colab_type": "text",
    "id": "C09obOhzjuxt"
   },
   "source": [
    "#### Classification Report "
   ]
  },
  {
   "cell_type": "code",
   "execution_count": 88,
   "metadata": {
    "colab": {
     "base_uri": "https://localhost:8080/",
     "height": 170
    },
    "colab_type": "code",
    "id": "5dQhDnw2jvTR",
    "outputId": "50df775e-ac1b-482a-a0f7-48cf98ae4f92"
   },
   "outputs": [
    {
     "name": "stdout",
     "output_type": "stream",
     "text": [
      "              precision    recall  f1-score   support\n",
      "\n",
      "IsCanceled 0       0.77      0.86      0.81       538\n",
      "IsCanceled 1       0.74      0.61      0.67       360\n",
      "\n",
      "    accuracy                           0.76       898\n",
      "   macro avg       0.76      0.74      0.74       898\n",
      "weighted avg       0.76      0.76      0.76       898\n",
      "\n"
     ]
    }
   ],
   "source": [
    "print(classification_report(y_test, pred_logreg_test, target_names=[\"IsCanceled 0\", \"IsCanceled 1\"]))"
   ]
  },
  {
   "cell_type": "markdown",
   "metadata": {
    "colab_type": "text",
    "id": "1f9NJGa-j0R5"
   },
   "source": [
    "### 2. KNN Classifier with Principal Component"
   ]
  },
  {
   "cell_type": "markdown",
   "metadata": {
    "colab_type": "text",
    "id": "DfyDFesjj2rK"
   },
   "source": [
    "#### Finding best parameters for the model"
   ]
  },
  {
   "cell_type": "code",
   "execution_count": 89,
   "metadata": {
    "colab": {
     "base_uri": "https://localhost:8080/",
     "height": 102
    },
    "colab_type": "code",
    "id": "V_9QPLS6j4_h",
    "outputId": "ad9d84cb-df2c-4023-bdb1-d55c4d317aea"
   },
   "outputs": [
    {
     "name": "stdout",
     "output_type": "stream",
     "text": [
      "Fitting 10 folds for each of 9 candidates, totalling 90 fits\n"
     ]
    },
    {
     "name": "stderr",
     "output_type": "stream",
     "text": [
      "[Parallel(n_jobs=1)]: Using backend SequentialBackend with 1 concurrent workers.\n"
     ]
    },
    {
     "name": "stdout",
     "output_type": "stream",
     "text": [
      "Best parameters: {'n_neighbors': 8}\n",
      "Best cross-validation score: 0.78\n"
     ]
    },
    {
     "name": "stderr",
     "output_type": "stream",
     "text": [
      "[Parallel(n_jobs=1)]: Done  90 out of  90 | elapsed:    5.6s finished\n"
     ]
    }
   ],
   "source": [
    "param_grid = {'n_neighbors': range(1,10)}\n",
    "grid_search = GridSearchCV(KNeighborsClassifier(), param_grid, cv=10, return_train_score=True, verbose = True)\n",
    "grid_search.fit(X_train_class, y_train)\n",
    "print(\"Best parameters: {}\".format(grid_search.best_params_))\n",
    "print(\"Best cross-validation score: {:.2f}\".format(grid_search.best_score_))"
   ]
  },
  {
   "cell_type": "code",
   "execution_count": 90,
   "metadata": {
    "colab": {
     "base_uri": "https://localhost:8080/",
     "height": 34
    },
    "colab_type": "code",
    "id": "rfWiGbTcj9E3",
    "outputId": "cac6e2e8-e42d-4806-dad7-9d173d2f863a"
   },
   "outputs": [
    {
     "data": {
      "text/plain": [
       "<matplotlib.legend.Legend at 0x235a60dc5c0>"
      ]
     },
     "execution_count": 90,
     "metadata": {},
     "output_type": "execute_result"
    },
    {
     "data": {
      "image/png": "[encoded data removed]",
      "text/plain": [
       "<Figure size 432x288 with 1 Axes>"
      ]
     },
     "metadata": {
      "needs_background": "light"
     },
     "output_type": "display_data"
    }
   ],
   "source": [
    "results = pd.DataFrame(grid_search.cv_results_)\n",
    "plt.plot(results['param_n_neighbors'],results['mean_test_score'],marker='o',c='r',label='Validation Test score')\n",
    "plt.plot(results['param_n_neighbors'],results['mean_train_score'],marker='*',c='g',label='Validation Train score')\n",
    "plt.title('Number of Neighbors Vs. Mean Train/Validation Accuracy')\n",
    "plt.xlabel('Number of Neighbors in KNN regressor')\n",
    "plt.ylabel('Accuracy')\n",
    "plt.legend()\n"
   ]
  },
  {
   "cell_type": "code",
   "execution_count": 91,
   "metadata": {
    "colab": {
     "base_uri": "https://localhost:8080/",
     "height": 51
    },
    "colab_type": "code",
    "id": "E5Ml-P-lk6Fn",
    "outputId": "dc35cdce-94e0-4c75-ea0c-6afa02108f10"
   },
   "outputs": [
    {
     "name": "stdout",
     "output_type": "stream",
     "text": [
      "Train score on best parameters 0.8214797136038187\n",
      "Test score on best parameters 0.7628062360801782\n"
     ]
    }
   ],
   "source": [
    "knn = KNeighborsClassifier(n_neighbors=8)\n",
    "knn.fit(X_train_class, y_train)\n",
    "print('Train score on best parameters {}'.format(knn.score(X_train_class,y_train)))\n",
    "print('Test score on best parameters {}'.format(knn.score(X_test_class,y_test)))"
   ]
  },
  {
   "cell_type": "markdown",
   "metadata": {
    "colab_type": "text",
    "id": "_KuLCQAkk-QK"
   },
   "source": [
    "### 3. Support Vector Machine Classifiers"
   ]
  },
  {
   "cell_type": "markdown",
   "metadata": {},
   "source": [
    "### 3.1 Linear SVC with Principal Component"
   ]
  },
  {
   "cell_type": "markdown",
   "metadata": {
    "colab_type": "text",
    "id": "er66Af0Jk-zb"
   },
   "source": [
    "#### Finding best parameters using gridsearch for Linear SVC and then finding test score using tuned model"
   ]
  },
  {
   "cell_type": "code",
   "execution_count": 94,
   "metadata": {},
   "outputs": [
    {
     "name": "stdout",
     "output_type": "stream",
     "text": [
      "Best parameters: {'C': 40.01, 'random_state': 0}\n",
      "Best cross-validation score: 0.78\n"
     ]
    }
   ],
   "source": [
    "from sklearn.svm import SVC\n",
    "from sklearn.svm import LinearSVC\n",
    "\n",
    "linearsvc = LinearSVC()\n",
    "param_grid = {'C':np.arange(0.01,1000,10),'random_state':[0]} #C - Regularization Parameter\n",
    "\n",
    "clf = GridSearchCV(linearsvc,param_grid,cv=5)\n",
    "clf.fit(X_train_class, y_train)\n",
    "\n",
    "print(\"Best parameters: {}\".format(clf.best_params_))\n",
    "print(\"Best cross-validation score: {:.2f}\".format(clf.best_score_))\n"
   ]
  },
  {
   "cell_type": "code",
   "execution_count": 95,
   "metadata": {},
   "outputs": [
    {
     "name": "stdout",
     "output_type": "stream",
     "text": [
      "Train score on best parameters 0.7899761336515513\n",
      "Test score on best parameters 0.7661469933184856\n"
     ]
    }
   ],
   "source": [
    "linsvc = LinearSVC(C=40.01,random_state=0)\n",
    "linsvc.fit(X_train_class, y_train)\n",
    "print('Train score on best parameters {}'.format(linsvc.score(X_train_class,y_train)))\n",
    "print('Test score on best parameters {}'.format(linsvc.score(X_test_class,y_test)))"
   ]
  },
  {
   "cell_type": "markdown",
   "metadata": {},
   "source": [
    "### 3.2 Kernelized SVC with Principal Component"
   ]
  },
  {
   "cell_type": "markdown",
   "metadata": {},
   "source": [
    "### Finding best parameters using gridsearch for Kernelized SVC and then finding test score using tuned model"
   ]
  },
  {
   "cell_type": "code",
   "execution_count": 96,
   "metadata": {},
   "outputs": [
    {
     "name": "stdout",
     "output_type": "stream",
     "text": [
      "Best parameters: {'C': 1000, 'gamma': 0.001, 'kernel': 'rbf'}\n",
      "Best cross-validation score: 0.79\n"
     ]
    }
   ],
   "source": [
    "kernelizedsvc = SVC()\n",
    "\n",
    "#Hyper Parameters Set\n",
    "param_grid = [{'C': [1, 10, 100, 1000], 'kernel': ['linear']},{'C': [1, 10, 100, 1000], 'gamma': [0.001, 0.0001], 'kernel': ['rbf','poly']}]\n",
    "\n",
    "kerclf = GridSearchCV(kernelizedsvc,param_grid,cv=5)\n",
    "kerclf.fit(X_train_class, y_train)\n",
    "\n",
    "print(\"Best parameters: {}\".format(kerclf.best_params_))\n",
    "print(\"Best cross-validation score: {:.2f}\".format(kerclf.best_score_))"
   ]
  },
  {
   "cell_type": "code",
   "execution_count": 97,
   "metadata": {},
   "outputs": [
    {
     "name": "stdout",
     "output_type": "stream",
     "text": [
      "Train score on best parameters 0.7961813842482101\n",
      "Test score on best parameters 0.767260579064588\n"
     ]
    }
   ],
   "source": [
    "kernsvc = SVC(C=1000,gamma=0.001,kernel='rbf',random_state=0)\n",
    "kernsvc.fit(X_train_class, y_train)\n",
    "print('Train score on best parameters {}'.format(kernsvc.score(X_train_class,y_train)))\n",
    "print('Test score on best parameters {}'.format(kernsvc.score(X_test_class,y_test)))"
   ]
  },
  {
   "cell_type": "markdown",
   "metadata": {
    "colab_type": "text",
    "id": "hn23sc2_oDjM"
   },
   "source": [
    "### 4. Decision Tree Classifier with Principal Component\n"
   ]
  },
  {
   "cell_type": "markdown",
   "metadata": {
    "colab_type": "text",
    "id": "dVf-zYx4oF6m"
   },
   "source": [
    "#### Finding best parameters for the model using gridsearch"
   ]
  },
  {
   "cell_type": "code",
   "execution_count": 92,
   "metadata": {
    "colab": {
     "base_uri": "https://localhost:8080/",
     "height": 255
    },
    "colab_type": "code",
    "id": "pWLiawz1oEd0",
    "outputId": "ddcec53d-147b-4d23-ba03-93616e015e2f"
   },
   "outputs": [
    {
     "name": "stdout",
     "output_type": "stream",
     "text": [
      "Fitting 10 folds for each of 9 candidates, totalling 90 fits\n"
     ]
    },
    {
     "name": "stderr",
     "output_type": "stream",
     "text": [
      "[Parallel(n_jobs=1)]: Using backend SequentialBackend with 1 concurrent workers.\n",
      "[Parallel(n_jobs=1)]: Done  90 out of  90 | elapsed:    5.6s finished\n",
      "[Parallel(n_jobs=-1)]: Using backend LokyBackend with 8 concurrent workers.\n"
     ]
    },
    {
     "name": "stdout",
     "output_type": "stream",
     "text": [
      "Fitting 10 folds for each of 9 candidates, totalling 90 fits\n"
     ]
    },
    {
     "name": "stderr",
     "output_type": "stream",
     "text": [
      "[Parallel(n_jobs=-1)]: Done  34 tasks      | elapsed:    8.1s\n"
     ]
    },
    {
     "name": "stdout",
     "output_type": "stream",
     "text": [
      "Best parameters: {'max_depth': 7, 'random_state': 0}\n",
      "Best cross-validation score: 0.77\n"
     ]
    },
    {
     "name": "stderr",
     "output_type": "stream",
     "text": [
      "[Parallel(n_jobs=-1)]: Done  90 out of  90 | elapsed:    9.7s finished\n"
     ]
    }
   ],
   "source": [
    "from sklearn.model_selection import GridSearchCV\n",
    "param_grid = {'max_depth': np.arange(1, 10),'random_state':[0]}\n",
    "grid_search.fit(X_train_class, y_train)\n",
    "grid_search = GridSearchCV(DecisionTreeClassifier(), param_grid, cv=10, return_train_score=True, n_jobs = -1, verbose = True)\n",
    "grid_search.fit(X_train_class, y_train)\n",
    "print(\"Best parameters: {}\".format(grid_search.best_params_))\n",
    "print(\"Best cross-validation score: {:.2f}\".format(grid_search.best_score_))"
   ]
  },
  {
   "cell_type": "code",
   "execution_count": 93,
   "metadata": {},
   "outputs": [
    {
     "name": "stdout",
     "output_type": "stream",
     "text": [
      "Train score on best parameters 0.809546539379475\n",
      "Test score on best parameters 0.7538975501113586\n"
     ]
    }
   ],
   "source": [
    "clftree = DecisionTreeClassifier(max_depth=7,random_state=0)\n",
    "clftree.fit(X_train_class, y_train)\n",
    "print('Train score on best parameters {}'.format(clftree.score(X_train_class,y_train)))\n",
    "print('Test score on best parameters {}'.format(clftree.score(X_test_class,y_test)))"
   ]
  },
  {
   "cell_type": "markdown",
   "metadata": {
    "colab_type": "text",
    "id": "nnoaFgWFo4R4"
   },
   "source": [
    "## Comparing results of models without PCA with models after PCA"
   ]
  },
  {
   "cell_type": "code",
   "execution_count": 101,
   "metadata": {},
   "outputs": [
    {
     "data": {
      "text/html": [
       "<div>\n",
       "<style scoped>\n",
       "    .dataframe tbody tr th:only-of-type {\n",
       "        vertical-align: middle;\n",
       "    }\n",
       "\n",
       "    .dataframe tbody tr th {\n",
       "        vertical-align: top;\n",
       "    }\n",
       "\n",
       "    .dataframe thead th {\n",
       "        text-align: right;\n",
       "    }\n",
       "</style>\n",
       "<table border=\"1\" class=\"dataframe\">\n",
       "  <thead>\n",
       "    <tr style=\"text-align: right;\">\n",
       "      <th></th>\n",
       "      <th></th>\n",
       "      <th>Logistic Regression</th>\n",
       "      <th>KNN Classification</th>\n",
       "      <th>Linear SVC</th>\n",
       "      <th>Kernelized SVC</th>\n",
       "      <th>Decision Tree</th>\n",
       "    </tr>\n",
       "  </thead>\n",
       "  <tbody>\n",
       "    <tr>\n",
       "      <th>Before PCA</th>\n",
       "      <th>Test Accuracy</th>\n",
       "      <td>0.776</td>\n",
       "      <td>0.746</td>\n",
       "      <td>0.769</td>\n",
       "      <td>0.775</td>\n",
       "      <td>0.758</td>\n",
       "    </tr>\n",
       "    <tr>\n",
       "      <th>After PCA</th>\n",
       "      <th>Test Accuracy</th>\n",
       "      <td>0.761</td>\n",
       "      <td>0.762</td>\n",
       "      <td>0.766</td>\n",
       "      <td>0.767</td>\n",
       "      <td>0.753</td>\n",
       "    </tr>\n",
       "  </tbody>\n",
       "</table>\n",
       "</div>"
      ],
      "text/plain": [
       "                          Logistic Regression  KNN Classification  Linear SVC  \\\n",
       "Before PCA Test Accuracy                0.776               0.746       0.769   \n",
       "After PCA  Test Accuracy                0.761               0.762       0.766   \n",
       "\n",
       "                          Kernelized SVC  Decision Tree  \n",
       "Before PCA Test Accuracy           0.775          0.758  \n",
       "After PCA  Test Accuracy           0.767          0.753  "
      ]
     },
     "execution_count": 101,
     "metadata": {},
     "output_type": "execute_result"
    }
   ],
   "source": [
    "pca = ['Before PCA','After PCA']\n",
    "accuracy = ['Test Accuracy','Test Accuracy']\n",
    "hier_index = list(zip(pca,accuracy))\n",
    "hier_index = pd.MultiIndex.from_tuples(hier_index)\n",
    "\n",
    "data_class = np.array([(0.776,0.746,0.769,0.775,0.758),\n",
    "                     (0.761,0.762,0.766,0.767,0.753)])\n",
    "\n",
    "df = pd.DataFrame(data_class,index=hier_index,columns=['Logistic Regression','KNN Classification','Linear SVC','Kernelized SVC','Decision Tree'])\n",
    "df"
   ]
  },
  {
   "cell_type": "markdown",
   "metadata": {},
   "source": [
    "### The test accuracy has improved for KNN Classification model after PCA, however it hasn't improved for the rest of the models but there is not much difference in the  test accuracy for the models before PCA and after PCA and PCA has helped us reduce the dimensionality which is very important if you want to avoid computational problems. So in that sense, it gives us good enough results even after dimensionality reduction technique."
   ]
  },
  {
   "cell_type": "markdown",
   "metadata": {
    "colab_type": "text",
    "id": "Dbr1JRIco-m1"
   },
   "source": [
    "## Neural Networks - Classification\n"
   ]
  },
  {
   "cell_type": "code",
   "execution_count": 114,
   "metadata": {
    "colab": {},
    "colab_type": "code",
    "id": "Nau1DNIhpcfP"
   },
   "outputs": [
    {
     "name": "stderr",
     "output_type": "stream",
     "text": [
      "Using TensorFlow backend.\n",
      "ERROR:root:Internal Python error in the inspect module.\n",
      "Below is the traceback from this internal error.\n",
      "\n"
     ]
    },
    {
     "name": "stdout",
     "output_type": "stream",
     "text": [
      "Traceback (most recent call last):\n",
      "  File \"C:\\Users\\Vivek Rao\\Anaconda3\\lib\\site-packages\\IPython\\core\\interactiveshell.py\", line 3325, in run_code\n",
      "    exec(code_obj, self.user_global_ns, self.user_ns)\n",
      "  File \"<ipython-input-114-7ddb2790fa09>\", line 2, in <module>\n",
      "    from keras.models import Sequential\n",
      "  File \"C:\\Users\\Vivek Rao\\Anaconda3\\lib\\site-packages\\keras\\__init__.py\", line 3, in <module>\n",
      "    from . import utils\n",
      "  File \"C:\\Users\\Vivek Rao\\Anaconda3\\lib\\site-packages\\keras\\utils\\__init__.py\", line 6, in <module>\n",
      "    from . import conv_utils\n",
      "  File \"C:\\Users\\Vivek Rao\\Anaconda3\\lib\\site-packages\\keras\\utils\\conv_utils.py\", line 9, in <module>\n",
      "    from .. import backend as K\n",
      "  File \"C:\\Users\\Vivek Rao\\Anaconda3\\lib\\site-packages\\keras\\backend\\__init__.py\", line 1, in <module>\n",
      "    from .load_backend import epsilon\n",
      "  File \"C:\\Users\\Vivek Rao\\Anaconda3\\lib\\site-packages\\keras\\backend\\load_backend.py\", line 90, in <module>\n",
      "    from .tensorflow_backend import *\n",
      "  File \"C:\\Users\\Vivek Rao\\Anaconda3\\lib\\site-packages\\keras\\backend\\tensorflow_backend.py\", line 6, in <module>\n",
      "    from tensorflow.python.eager import context\n",
      "  File \"C:\\Users\\Vivek Rao\\Anaconda3\\lib\\site-packages\\tensorflow_core\\python\\eager\\context.py\", line 29, in <module>\n",
      "    from tensorflow.core.protobuf import config_pb2\n",
      "  File \"C:\\Users\\Vivek Rao\\Anaconda3\\lib\\site-packages\\tensorflow\\core\\protobuf\\config_pb2.py\", line 16, in <module>\n",
      "    from tensorflow.core.framework import cost_graph_pb2 as tensorflow_dot_core_dot_framework_dot_cost__graph__pb2\n",
      "  File \"C:\\Users\\Vivek Rao\\Anaconda3\\lib\\site-packages\\tensorflow\\core\\framework\\cost_graph_pb2.py\", line 16, in <module>\n",
      "    from tensorflow.core.framework import tensor_shape_pb2 as tensorflow_dot_core_dot_framework_dot_tensor__shape__pb2\n",
      "  File \"C:\\Users\\Vivek Rao\\Anaconda3\\lib\\site-packages\\tensorflow\\core\\framework\\tensor_shape_pb2.py\", line 112, in <module>\n",
      "    __module__ = 'tensorflow.core.framework.tensor_shape_pb2'\n",
      "TypeError: expected bytes, Descriptor found\n",
      "\n",
      "During handling of the above exception, another exception occurred:\n",
      "\n",
      "Traceback (most recent call last):\n",
      "  File \"C:\\Users\\Vivek Rao\\Anaconda3\\lib\\site-packages\\IPython\\core\\interactiveshell.py\", line 2039, in showtraceback\n",
      "    stb = value._render_traceback_()\n",
      "AttributeError: 'TypeError' object has no attribute '_render_traceback_'\n",
      "\n",
      "During handling of the above exception, another exception occurred:\n",
      "\n",
      "Traceback (most recent call last):\n",
      "  File \"C:\\Users\\Vivek Rao\\Anaconda3\\lib\\site-packages\\IPython\\core\\ultratb.py\", line 1101, in get_records\n",
      "    return _fixed_getinnerframes(etb, number_of_lines_of_context, tb_offset)\n",
      "  File \"C:\\Users\\Vivek Rao\\Anaconda3\\lib\\site-packages\\IPython\\core\\ultratb.py\", line 319, in wrapped\n",
      "    return f(*args, **kwargs)\n",
      "  File \"C:\\Users\\Vivek Rao\\Anaconda3\\lib\\site-packages\\IPython\\core\\ultratb.py\", line 353, in _fixed_getinnerframes\n",
      "    records = fix_frame_records_filenames(inspect.getinnerframes(etb, context))\n",
      "  File \"C:\\Users\\Vivek Rao\\Anaconda3\\lib\\inspect.py\", line 1502, in getinnerframes\n",
      "    frameinfo = (tb.tb_frame,) + getframeinfo(tb, context)\n",
      "  File \"C:\\Users\\Vivek Rao\\Anaconda3\\lib\\inspect.py\", line 1460, in getframeinfo\n",
      "    filename = getsourcefile(frame) or getfile(frame)\n",
      "  File \"C:\\Users\\Vivek Rao\\Anaconda3\\lib\\inspect.py\", line 696, in getsourcefile\n",
      "    if getattr(getmodule(object, filename), '__loader__', None) is not None:\n",
      "  File \"C:\\Users\\Vivek Rao\\Anaconda3\\lib\\inspect.py\", line 733, in getmodule\n",
      "    if ismodule(module) and hasattr(module, '__file__'):\n",
      "  File \"C:\\Users\\Vivek Rao\\Anaconda3\\lib\\site-packages\\tensorflow\\__init__.py\", line 50, in __getattr__\n",
      "    module = self._load()\n",
      "  File \"C:\\Users\\Vivek Rao\\Anaconda3\\lib\\site-packages\\tensorflow\\__init__.py\", line 44, in _load\n",
      "    module = _importlib.import_module(self.__name__)\n",
      "  File \"C:\\Users\\Vivek Rao\\Anaconda3\\lib\\importlib\\__init__.py\", line 127, in import_module\n",
      "    return _bootstrap._gcd_import(name[level:], package, level)\n",
      "  File \"<frozen importlib._bootstrap>\", line 1006, in _gcd_import\n",
      "  File \"<frozen importlib._bootstrap>\", line 983, in _find_and_load\n",
      "  File \"<frozen importlib._bootstrap>\", line 953, in _find_and_load_unlocked\n",
      "  File \"<frozen importlib._bootstrap>\", line 219, in _call_with_frames_removed\n",
      "  File \"<frozen importlib._bootstrap>\", line 1006, in _gcd_import\n",
      "  File \"<frozen importlib._bootstrap>\", line 983, in _find_and_load\n",
      "  File \"<frozen importlib._bootstrap>\", line 967, in _find_and_load_unlocked\n",
      "  File \"<frozen importlib._bootstrap>\", line 677, in _load_unlocked\n",
      "  File \"<frozen importlib._bootstrap_external>\", line 728, in exec_module\n",
      "  File \"<frozen importlib._bootstrap>\", line 219, in _call_with_frames_removed\n",
      "  File \"C:\\Users\\Vivek Rao\\Anaconda3\\lib\\site-packages\\tensorflow_core\\__init__.py\", line 42, in <module>\n",
      "    from . _api.v2 import audio\n",
      "  File \"C:\\Users\\Vivek Rao\\Anaconda3\\lib\\site-packages\\tensorflow_core\\_api\\v2\\audio\\__init__.py\", line 10, in <module>\n",
      "    from tensorflow.python.ops.gen_audio_ops import decode_wav\n",
      "  File \"C:\\Users\\Vivek Rao\\Anaconda3\\lib\\site-packages\\tensorflow_core\\python\\ops\\gen_audio_ops.py\", line 10, in <module>\n",
      "    from tensorflow.python.eager import context as _context\n",
      "  File \"C:\\Users\\Vivek Rao\\Anaconda3\\lib\\site-packages\\tensorflow_core\\python\\eager\\context.py\", line 29, in <module>\n",
      "    from tensorflow.core.protobuf import config_pb2\n",
      "  File \"C:\\Users\\Vivek Rao\\Anaconda3\\lib\\site-packages\\tensorflow\\core\\protobuf\\config_pb2.py\", line 16, in <module>\n",
      "    from tensorflow.core.framework import cost_graph_pb2 as tensorflow_dot_core_dot_framework_dot_cost__graph__pb2\n",
      "  File \"C:\\Users\\Vivek Rao\\Anaconda3\\lib\\site-packages\\tensorflow\\core\\framework\\cost_graph_pb2.py\", line 16, in <module>\n",
      "    from tensorflow.core.framework import tensor_shape_pb2 as tensorflow_dot_core_dot_framework_dot_tensor__shape__pb2\n",
      "  File \"C:\\Users\\Vivek Rao\\Anaconda3\\lib\\site-packages\\tensorflow\\core\\framework\\tensor_shape_pb2.py\", line 112, in <module>\n",
      "    __module__ = 'tensorflow.core.framework.tensor_shape_pb2'\n",
      "TypeError: expected bytes, Descriptor found\n"
     ]
    },
    {
     "ename": "TypeError",
     "evalue": "expected bytes, Descriptor found",
     "output_type": "error",
     "traceback": [
      "\u001b[1;31m---------------------------------------------------------------------------\u001b[0m"
     ]
    }
   ],
   "source": [
    "import tensorflow as tf\n",
    "from keras.models import Sequential\n",
    "from keras.layers import Dense\n",
    "from keras.wrappers.scikit_learn import KerasClassifier"
   ]
  },
  {
   "cell_type": "code",
   "execution_count": null,
   "metadata": {
    "colab": {},
    "colab_type": "code",
    "id": "xK2JhVhTpgSi"
   },
   "outputs": [],
   "source": [
    "def create_model():\n",
    "    #create model\n",
    "    model = Sequential()\n",
    "    model.add(Dense(17, input_dim=22, activation='relu'))\n",
    "    model.add(Dense(8, activation='relu'))\n",
    "    model.add(Dense(1, activation='sigmoid'))\n",
    "    #compile model\n",
    "    model.compile(loss='binary_crossentropy', optimizer='adam', metrics=['accuracy'])\n",
    "    return model"
   ]
  },
  {
   "cell_type": "markdown",
   "metadata": {
    "colab_type": "text",
    "id": "Qge_PE5tpi3D"
   },
   "source": [
    "##### Setting the seed "
   ]
  },
  {
   "cell_type": "code",
   "execution_count": null,
   "metadata": {
    "colab": {},
    "colab_type": "code",
    "id": "xQb9ERcRpjgU"
   },
   "outputs": [],
   "source": [
    "seed = 10\n",
    "np.random.seed(10)"
   ]
  },
  {
   "cell_type": "markdown",
   "metadata": {
    "colab_type": "text",
    "id": "V-z8MucRpmYS"
   },
   "source": [
    "__Using GridSearch to find out best parmeters__"
   ]
  },
  {
   "cell_type": "code",
   "execution_count": null,
   "metadata": {
    "colab": {
     "base_uri": "https://localhost:8080/",
     "height": 119
    },
    "colab_type": "code",
    "id": "QHe670rOpnA7",
    "outputId": "340d3fc2-493d-43c5-e519-2fdbd6899f37"
   },
   "outputs": [],
   "source": [
    "model = KerasClassifier(build_fn = create_model, verbose = 0)\n",
    "\n",
    "param_grid = {'batch_size':[10,20,30,40] , 'epochs':[10, 50, 100]}\n",
    "grid_search = GridSearchCV(estimator= model, param_grid = param_grid, cv = 5, n_jobs=-1, verbose= True)\n",
    "\n",
    "grid_search_result = grid_search.fit(X_train, y_train)\n",
    "print(\"Best parameters: {}\".format(grid_search.best_params_))\n",
    "print(\"Best cross-validation score: {:.2f}\".format(grid_search.best_score_))"
   ]
  },
  {
   "cell_type": "markdown",
   "metadata": {},
   "source": [
    "#### Creating Model"
   ]
  },
  {
   "cell_type": "code",
   "execution_count": null,
   "metadata": {},
   "outputs": [],
   "source": [
    "model = Sequential()\n",
    "model.add(Dense(12, input_dim=23, activation='relu'))\n",
    "model.add(Dense(8, activation='relu'))\n",
    "model.add(Dense(1, activation='sigmoid'))"
   ]
  },
  {
   "cell_type": "markdown",
   "metadata": {},
   "source": [
    "#### Compiling Model"
   ]
  },
  {
   "cell_type": "code",
   "execution_count": null,
   "metadata": {},
   "outputs": [],
   "source": [
    "model.compile(loss='binary_crossentropy', optimizer='adam', metrics=['accuracy'])"
   ]
  },
  {
   "cell_type": "markdown",
   "metadata": {},
   "source": [
    "#### Fitting the Model"
   ]
  },
  {
   "cell_type": "code",
   "execution_count": null,
   "metadata": {},
   "outputs": [],
   "source": [
    "model.fit(X_train, y_train, epochs=100, batch_size=20)"
   ]
  },
  {
   "cell_type": "markdown",
   "metadata": {},
   "source": [
    "#### Evaluating the Model and calculating the accuracy"
   ]
  },
  {
   "cell_type": "code",
   "execution_count": null,
   "metadata": {},
   "outputs": [],
   "source": [
    "scores = model.evaluate(X_test, y_test)\n",
    "print(\"\\n%s: %.2f%%\" % (model.metrics_names[1], scores[1]*100))"
   ]
  },
  {
   "cell_type": "code",
   "execution_count": null,
   "metadata": {},
   "outputs": [],
   "source": [
    "y_predict = model.predict(X_test)\n",
    "y_predict"
   ]
  }
 ],
 "metadata": {
  "accelerator": "TPU",
  "colab": {
   "collapsed_sections": [],
   "name": "Classification.ipynb",
   "provenance": []
  },
  "kernelspec": {
   "display_name": "Python 3",
   "language": "python",
   "name": "python3"
  },
  "language_info": {
   "codemirror_mode": {
    "name": "ipython",
    "version": 3
   },
   "file_extension": ".py",
   "mimetype": "text/x-python",
   "name": "python",
   "nbconvert_exporter": "python",
   "pygments_lexer": "ipython3",
   "version": "3.7.3"
  }
 },
 "nbformat": 4,
 "nbformat_minor": 1
}
